{
  "nbformat": 4,
  "nbformat_minor": 0,
  "metadata": {
    "colab": {
      "provenance": [],
      "include_colab_link": true
    },
    "kernelspec": {
      "name": "python3",
      "display_name": "Python 3"
    },
    "language_info": {
      "name": "python"
    }
  },
  "cells": [
    {
      "cell_type": "markdown",
      "metadata": {
        "id": "view-in-github",
        "colab_type": "text"
      },
      "source": [
        "<a href=\"https://colab.research.google.com/github/SimonMuriu-pro/Anonymized-sales-Data-Analysis/blob/main/Anonymized_Sales_Data_Analysis.ipynb\" target=\"_parent\"><img src=\"https://colab.research.google.com/assets/colab-badge.svg\" alt=\"Open In Colab\"/></a>"
      ]
    },
    {
      "cell_type": "markdown",
      "source": [
        "#Background"
      ],
      "metadata": {
        "id": "wpBB70qCM4ru"
      }
    },
    {
      "cell_type": "markdown",
      "source": [
        "The report provides a comprehensive analysis of sales data, focusing on data quality, trends, and customer segmentation to derive actionable insights. The analysis begins with data cleaning and preparation, ensuring accuracy by handling missing values, duplicates, and inconsistent data types. Key features such as “Month-Year” were engineered to facilitate trend analysis.\n",
        "\n",
        "Through exploratory data analysis, sales performance was examined across different categories and businesses, supported by visualizations. Advanced techniques, including customer segmentation, forecasting, and anomaly detection, were applied to uncover purchasing patterns and predict future trends.\n",
        "\n",
        "Finally, strategic recommendations were made to optimize product strategy, enhance customer retention, and improve operational efficiency.\n",
        "A dynamic Power BI dashboard summarizes key findings for better decision-making."
      ],
      "metadata": {
        "id": "Dn8VsTL1p-1s"
      }
    },
    {
      "cell_type": "code",
      "execution_count": null,
      "metadata": {
        "id": "SviFUKV2k0-b"
      },
      "outputs": [],
      "source": [
        "#import libraries\n",
        "import pandas as pd\n",
        "import numpy as np\n",
        "import matplotlib.pyplot as plt\n",
        "import seaborn as sns"
      ]
    },
    {
      "cell_type": "code",
      "source": [
        "# Reading the Data\n",
        "data=pd.read_csv('/content/Case_Study_Data.csv')\n"
      ],
      "metadata": {
        "id": "C7fV0Y6DMUXC"
      },
      "execution_count": null,
      "outputs": []
    },
    {
      "cell_type": "code",
      "source": [
        "#Viewing the shape of data\n",
        "data.shape"
      ],
      "metadata": {
        "colab": {
          "base_uri": "https://localhost:8080/"
        },
        "id": "DjZuUy8nNKZL",
        "outputId": "da971d57-823c-4130-ac1b-d4e035ee58d3"
      },
      "execution_count": null,
      "outputs": [
        {
          "output_type": "execute_result",
          "data": {
            "text/plain": [
              "(333405, 7)"
            ]
          },
          "metadata": {},
          "execution_count": 9
        }
      ]
    },
    {
      "cell_type": "markdown",
      "source": [
        "The dataset has 33405 rows and 7 columns"
      ],
      "metadata": {
        "id": "kDIhSzS_rWN5"
      }
    },
    {
      "cell_type": "code",
      "source": [
        "#Viewing the 7 specific columns of data\n",
        "data.columns"
      ],
      "metadata": {
        "colab": {
          "base_uri": "https://localhost:8080/"
        },
        "id": "LbpgUFUkrfuq",
        "outputId": "7aa50a85-04f3-4fd8-b950-74f0f3ab3464"
      },
      "execution_count": null,
      "outputs": [
        {
          "output_type": "execute_result",
          "data": {
            "text/plain": [
              "Index(['DATE', 'ANONYMIZED CATEGORY', 'ANONYMIZED PRODUCT',\n",
              "       'ANONYMIZED BUSINESS', 'ANONYMIZED LOCATION', 'QUANTITY', 'UNIT PRICE'],\n",
              "      dtype='object')"
            ]
          },
          "metadata": {},
          "execution_count": 10
        }
      ]
    },
    {
      "cell_type": "code",
      "source": [
        "#Viewing a few rows of the data\n",
        "data.head(10)"
      ],
      "metadata": {
        "colab": {
          "base_uri": "https://localhost:8080/",
          "height": 363
        },
        "id": "JmuIvmBPOHJB",
        "outputId": "5b486e6d-3e90-4e5a-e6ab-592aba385bf1"
      },
      "execution_count": null,
      "outputs": [
        {
          "output_type": "execute_result",
          "data": {
            "text/plain": [
              "                       DATE ANONYMIZED CATEGORY ANONYMIZED PRODUCT  \\\n",
              "0  August 18, 2024, 9:32 PM        Category-106       Product-21f4   \n",
              "1  August 18, 2024, 9:32 PM        Category-120       Product-4156   \n",
              "2  August 18, 2024, 9:32 PM        Category-121       Product-49bd   \n",
              "3  August 18, 2024, 9:32 PM         Category-76       Product-61dd   \n",
              "4  August 18, 2024, 9:32 PM        Category-119       Product-66e0   \n",
              "5  August 18, 2024, 9:32 PM         Category-76       Product-6e9c   \n",
              "6  August 18, 2024, 9:32 PM        Category-120       Product-7864   \n",
              "7  August 18, 2024, 9:32 PM        Category-119       Product-7940   \n",
              "8  August 18, 2024, 9:32 PM         Category-96       Product-87b2   \n",
              "9  August 18, 2024, 9:32 PM        Category-106       Product-c14c   \n",
              "\n",
              "  ANONYMIZED BUSINESS ANONYMIZED LOCATION  QUANTITY UNIT PRICE  \n",
              "0       Business-de42       Location-1ba8         1        850  \n",
              "1       Business-de42       Location-1ba8         2      1,910  \n",
              "2       Business-de42       Location-1ba8         1      3,670  \n",
              "3       Business-de42       Location-1ba8         1      2,605  \n",
              "4       Business-de42       Location-1ba8         5      1,480  \n",
              "5       Business-de42       Location-1ba8         1      2,605  \n",
              "6       Business-de42       Location-1ba8         1      1,940  \n",
              "7       Business-de42       Location-1ba8         4      1,460  \n",
              "8       Business-de42       Location-1ba8         1        805  \n",
              "9       Business-de42       Location-1ba8         1      1,350  "
            ],
            "text/html": [
              "\n",
              "  <div id=\"df-e0336748-4bf8-418a-997d-a8ffa45a8564\" class=\"colab-df-container\">\n",
              "    <div>\n",
              "<style scoped>\n",
              "    .dataframe tbody tr th:only-of-type {\n",
              "        vertical-align: middle;\n",
              "    }\n",
              "\n",
              "    .dataframe tbody tr th {\n",
              "        vertical-align: top;\n",
              "    }\n",
              "\n",
              "    .dataframe thead th {\n",
              "        text-align: right;\n",
              "    }\n",
              "</style>\n",
              "<table border=\"1\" class=\"dataframe\">\n",
              "  <thead>\n",
              "    <tr style=\"text-align: right;\">\n",
              "      <th></th>\n",
              "      <th>DATE</th>\n",
              "      <th>ANONYMIZED CATEGORY</th>\n",
              "      <th>ANONYMIZED PRODUCT</th>\n",
              "      <th>ANONYMIZED BUSINESS</th>\n",
              "      <th>ANONYMIZED LOCATION</th>\n",
              "      <th>QUANTITY</th>\n",
              "      <th>UNIT PRICE</th>\n",
              "    </tr>\n",
              "  </thead>\n",
              "  <tbody>\n",
              "    <tr>\n",
              "      <th>0</th>\n",
              "      <td>August 18, 2024, 9:32 PM</td>\n",
              "      <td>Category-106</td>\n",
              "      <td>Product-21f4</td>\n",
              "      <td>Business-de42</td>\n",
              "      <td>Location-1ba8</td>\n",
              "      <td>1</td>\n",
              "      <td>850</td>\n",
              "    </tr>\n",
              "    <tr>\n",
              "      <th>1</th>\n",
              "      <td>August 18, 2024, 9:32 PM</td>\n",
              "      <td>Category-120</td>\n",
              "      <td>Product-4156</td>\n",
              "      <td>Business-de42</td>\n",
              "      <td>Location-1ba8</td>\n",
              "      <td>2</td>\n",
              "      <td>1,910</td>\n",
              "    </tr>\n",
              "    <tr>\n",
              "      <th>2</th>\n",
              "      <td>August 18, 2024, 9:32 PM</td>\n",
              "      <td>Category-121</td>\n",
              "      <td>Product-49bd</td>\n",
              "      <td>Business-de42</td>\n",
              "      <td>Location-1ba8</td>\n",
              "      <td>1</td>\n",
              "      <td>3,670</td>\n",
              "    </tr>\n",
              "    <tr>\n",
              "      <th>3</th>\n",
              "      <td>August 18, 2024, 9:32 PM</td>\n",
              "      <td>Category-76</td>\n",
              "      <td>Product-61dd</td>\n",
              "      <td>Business-de42</td>\n",
              "      <td>Location-1ba8</td>\n",
              "      <td>1</td>\n",
              "      <td>2,605</td>\n",
              "    </tr>\n",
              "    <tr>\n",
              "      <th>4</th>\n",
              "      <td>August 18, 2024, 9:32 PM</td>\n",
              "      <td>Category-119</td>\n",
              "      <td>Product-66e0</td>\n",
              "      <td>Business-de42</td>\n",
              "      <td>Location-1ba8</td>\n",
              "      <td>5</td>\n",
              "      <td>1,480</td>\n",
              "    </tr>\n",
              "    <tr>\n",
              "      <th>5</th>\n",
              "      <td>August 18, 2024, 9:32 PM</td>\n",
              "      <td>Category-76</td>\n",
              "      <td>Product-6e9c</td>\n",
              "      <td>Business-de42</td>\n",
              "      <td>Location-1ba8</td>\n",
              "      <td>1</td>\n",
              "      <td>2,605</td>\n",
              "    </tr>\n",
              "    <tr>\n",
              "      <th>6</th>\n",
              "      <td>August 18, 2024, 9:32 PM</td>\n",
              "      <td>Category-120</td>\n",
              "      <td>Product-7864</td>\n",
              "      <td>Business-de42</td>\n",
              "      <td>Location-1ba8</td>\n",
              "      <td>1</td>\n",
              "      <td>1,940</td>\n",
              "    </tr>\n",
              "    <tr>\n",
              "      <th>7</th>\n",
              "      <td>August 18, 2024, 9:32 PM</td>\n",
              "      <td>Category-119</td>\n",
              "      <td>Product-7940</td>\n",
              "      <td>Business-de42</td>\n",
              "      <td>Location-1ba8</td>\n",
              "      <td>4</td>\n",
              "      <td>1,460</td>\n",
              "    </tr>\n",
              "    <tr>\n",
              "      <th>8</th>\n",
              "      <td>August 18, 2024, 9:32 PM</td>\n",
              "      <td>Category-96</td>\n",
              "      <td>Product-87b2</td>\n",
              "      <td>Business-de42</td>\n",
              "      <td>Location-1ba8</td>\n",
              "      <td>1</td>\n",
              "      <td>805</td>\n",
              "    </tr>\n",
              "    <tr>\n",
              "      <th>9</th>\n",
              "      <td>August 18, 2024, 9:32 PM</td>\n",
              "      <td>Category-106</td>\n",
              "      <td>Product-c14c</td>\n",
              "      <td>Business-de42</td>\n",
              "      <td>Location-1ba8</td>\n",
              "      <td>1</td>\n",
              "      <td>1,350</td>\n",
              "    </tr>\n",
              "  </tbody>\n",
              "</table>\n",
              "</div>\n",
              "    <div class=\"colab-df-buttons\">\n",
              "\n",
              "  <div class=\"colab-df-container\">\n",
              "    <button class=\"colab-df-convert\" onclick=\"convertToInteractive('df-e0336748-4bf8-418a-997d-a8ffa45a8564')\"\n",
              "            title=\"Convert this dataframe to an interactive table.\"\n",
              "            style=\"display:none;\">\n",
              "\n",
              "  <svg xmlns=\"http://www.w3.org/2000/svg\" height=\"24px\" viewBox=\"0 -960 960 960\">\n",
              "    <path d=\"M120-120v-720h720v720H120Zm60-500h600v-160H180v160Zm220 220h160v-160H400v160Zm0 220h160v-160H400v160ZM180-400h160v-160H180v160Zm440 0h160v-160H620v160ZM180-180h160v-160H180v160Zm440 0h160v-160H620v160Z\"/>\n",
              "  </svg>\n",
              "    </button>\n",
              "\n",
              "  <style>\n",
              "    .colab-df-container {\n",
              "      display:flex;\n",
              "      gap: 12px;\n",
              "    }\n",
              "\n",
              "    .colab-df-convert {\n",
              "      background-color: #E8F0FE;\n",
              "      border: none;\n",
              "      border-radius: 50%;\n",
              "      cursor: pointer;\n",
              "      display: none;\n",
              "      fill: #1967D2;\n",
              "      height: 32px;\n",
              "      padding: 0 0 0 0;\n",
              "      width: 32px;\n",
              "    }\n",
              "\n",
              "    .colab-df-convert:hover {\n",
              "      background-color: #E2EBFA;\n",
              "      box-shadow: 0px 1px 2px rgba(60, 64, 67, 0.3), 0px 1px 3px 1px rgba(60, 64, 67, 0.15);\n",
              "      fill: #174EA6;\n",
              "    }\n",
              "\n",
              "    .colab-df-buttons div {\n",
              "      margin-bottom: 4px;\n",
              "    }\n",
              "\n",
              "    [theme=dark] .colab-df-convert {\n",
              "      background-color: #3B4455;\n",
              "      fill: #D2E3FC;\n",
              "    }\n",
              "\n",
              "    [theme=dark] .colab-df-convert:hover {\n",
              "      background-color: #434B5C;\n",
              "      box-shadow: 0px 1px 3px 1px rgba(0, 0, 0, 0.15);\n",
              "      filter: drop-shadow(0px 1px 2px rgba(0, 0, 0, 0.3));\n",
              "      fill: #FFFFFF;\n",
              "    }\n",
              "  </style>\n",
              "\n",
              "    <script>\n",
              "      const buttonEl =\n",
              "        document.querySelector('#df-e0336748-4bf8-418a-997d-a8ffa45a8564 button.colab-df-convert');\n",
              "      buttonEl.style.display =\n",
              "        google.colab.kernel.accessAllowed ? 'block' : 'none';\n",
              "\n",
              "      async function convertToInteractive(key) {\n",
              "        const element = document.querySelector('#df-e0336748-4bf8-418a-997d-a8ffa45a8564');\n",
              "        const dataTable =\n",
              "          await google.colab.kernel.invokeFunction('convertToInteractive',\n",
              "                                                    [key], {});\n",
              "        if (!dataTable) return;\n",
              "\n",
              "        const docLinkHtml = 'Like what you see? Visit the ' +\n",
              "          '<a target=\"_blank\" href=https://colab.research.google.com/notebooks/data_table.ipynb>data table notebook</a>'\n",
              "          + ' to learn more about interactive tables.';\n",
              "        element.innerHTML = '';\n",
              "        dataTable['output_type'] = 'display_data';\n",
              "        await google.colab.output.renderOutput(dataTable, element);\n",
              "        const docLink = document.createElement('div');\n",
              "        docLink.innerHTML = docLinkHtml;\n",
              "        element.appendChild(docLink);\n",
              "      }\n",
              "    </script>\n",
              "  </div>\n",
              "\n",
              "\n",
              "<div id=\"df-1865eedb-098e-4c57-90ba-a846b0a8428c\">\n",
              "  <button class=\"colab-df-quickchart\" onclick=\"quickchart('df-1865eedb-098e-4c57-90ba-a846b0a8428c')\"\n",
              "            title=\"Suggest charts\"\n",
              "            style=\"display:none;\">\n",
              "\n",
              "<svg xmlns=\"http://www.w3.org/2000/svg\" height=\"24px\"viewBox=\"0 0 24 24\"\n",
              "     width=\"24px\">\n",
              "    <g>\n",
              "        <path d=\"M19 3H5c-1.1 0-2 .9-2 2v14c0 1.1.9 2 2 2h14c1.1 0 2-.9 2-2V5c0-1.1-.9-2-2-2zM9 17H7v-7h2v7zm4 0h-2V7h2v10zm4 0h-2v-4h2v4z\"/>\n",
              "    </g>\n",
              "</svg>\n",
              "  </button>\n",
              "\n",
              "<style>\n",
              "  .colab-df-quickchart {\n",
              "      --bg-color: #E8F0FE;\n",
              "      --fill-color: #1967D2;\n",
              "      --hover-bg-color: #E2EBFA;\n",
              "      --hover-fill-color: #174EA6;\n",
              "      --disabled-fill-color: #AAA;\n",
              "      --disabled-bg-color: #DDD;\n",
              "  }\n",
              "\n",
              "  [theme=dark] .colab-df-quickchart {\n",
              "      --bg-color: #3B4455;\n",
              "      --fill-color: #D2E3FC;\n",
              "      --hover-bg-color: #434B5C;\n",
              "      --hover-fill-color: #FFFFFF;\n",
              "      --disabled-bg-color: #3B4455;\n",
              "      --disabled-fill-color: #666;\n",
              "  }\n",
              "\n",
              "  .colab-df-quickchart {\n",
              "    background-color: var(--bg-color);\n",
              "    border: none;\n",
              "    border-radius: 50%;\n",
              "    cursor: pointer;\n",
              "    display: none;\n",
              "    fill: var(--fill-color);\n",
              "    height: 32px;\n",
              "    padding: 0;\n",
              "    width: 32px;\n",
              "  }\n",
              "\n",
              "  .colab-df-quickchart:hover {\n",
              "    background-color: var(--hover-bg-color);\n",
              "    box-shadow: 0 1px 2px rgba(60, 64, 67, 0.3), 0 1px 3px 1px rgba(60, 64, 67, 0.15);\n",
              "    fill: var(--button-hover-fill-color);\n",
              "  }\n",
              "\n",
              "  .colab-df-quickchart-complete:disabled,\n",
              "  .colab-df-quickchart-complete:disabled:hover {\n",
              "    background-color: var(--disabled-bg-color);\n",
              "    fill: var(--disabled-fill-color);\n",
              "    box-shadow: none;\n",
              "  }\n",
              "\n",
              "  .colab-df-spinner {\n",
              "    border: 2px solid var(--fill-color);\n",
              "    border-color: transparent;\n",
              "    border-bottom-color: var(--fill-color);\n",
              "    animation:\n",
              "      spin 1s steps(1) infinite;\n",
              "  }\n",
              "\n",
              "  @keyframes spin {\n",
              "    0% {\n",
              "      border-color: transparent;\n",
              "      border-bottom-color: var(--fill-color);\n",
              "      border-left-color: var(--fill-color);\n",
              "    }\n",
              "    20% {\n",
              "      border-color: transparent;\n",
              "      border-left-color: var(--fill-color);\n",
              "      border-top-color: var(--fill-color);\n",
              "    }\n",
              "    30% {\n",
              "      border-color: transparent;\n",
              "      border-left-color: var(--fill-color);\n",
              "      border-top-color: var(--fill-color);\n",
              "      border-right-color: var(--fill-color);\n",
              "    }\n",
              "    40% {\n",
              "      border-color: transparent;\n",
              "      border-right-color: var(--fill-color);\n",
              "      border-top-color: var(--fill-color);\n",
              "    }\n",
              "    60% {\n",
              "      border-color: transparent;\n",
              "      border-right-color: var(--fill-color);\n",
              "    }\n",
              "    80% {\n",
              "      border-color: transparent;\n",
              "      border-right-color: var(--fill-color);\n",
              "      border-bottom-color: var(--fill-color);\n",
              "    }\n",
              "    90% {\n",
              "      border-color: transparent;\n",
              "      border-bottom-color: var(--fill-color);\n",
              "    }\n",
              "  }\n",
              "</style>\n",
              "\n",
              "  <script>\n",
              "    async function quickchart(key) {\n",
              "      const quickchartButtonEl =\n",
              "        document.querySelector('#' + key + ' button');\n",
              "      quickchartButtonEl.disabled = true;  // To prevent multiple clicks.\n",
              "      quickchartButtonEl.classList.add('colab-df-spinner');\n",
              "      try {\n",
              "        const charts = await google.colab.kernel.invokeFunction(\n",
              "            'suggestCharts', [key], {});\n",
              "      } catch (error) {\n",
              "        console.error('Error during call to suggestCharts:', error);\n",
              "      }\n",
              "      quickchartButtonEl.classList.remove('colab-df-spinner');\n",
              "      quickchartButtonEl.classList.add('colab-df-quickchart-complete');\n",
              "    }\n",
              "    (() => {\n",
              "      let quickchartButtonEl =\n",
              "        document.querySelector('#df-1865eedb-098e-4c57-90ba-a846b0a8428c button');\n",
              "      quickchartButtonEl.style.display =\n",
              "        google.colab.kernel.accessAllowed ? 'block' : 'none';\n",
              "    })();\n",
              "  </script>\n",
              "</div>\n",
              "\n",
              "    </div>\n",
              "  </div>\n"
            ],
            "application/vnd.google.colaboratory.intrinsic+json": {
              "type": "dataframe",
              "variable_name": "data"
            }
          },
          "metadata": {},
          "execution_count": 11
        }
      ]
    },
    {
      "cell_type": "markdown",
      "source": [
        "#1. Data Cleaning & Preparation"
      ],
      "metadata": {
        "id": "HPhsYaJhNBCI"
      }
    },
    {
      "cell_type": "markdown",
      "source": [
        "## Handling Data Types"
      ],
      "metadata": {
        "id": "th8PC1jmQg1i"
      }
    },
    {
      "cell_type": "code",
      "source": [
        "#check data type\n",
        "data.dtypes"
      ],
      "metadata": {
        "colab": {
          "base_uri": "https://localhost:8080/",
          "height": 304
        },
        "id": "EMsa9KRRQBo0",
        "outputId": "3cd79d7c-2377-4ff6-ff7e-03dbfc7933e9"
      },
      "execution_count": null,
      "outputs": [
        {
          "output_type": "execute_result",
          "data": {
            "text/plain": [
              "DATE                   object\n",
              "ANONYMIZED CATEGORY    object\n",
              "ANONYMIZED PRODUCT     object\n",
              "ANONYMIZED BUSINESS    object\n",
              "ANONYMIZED LOCATION    object\n",
              "QUANTITY                int64\n",
              "UNIT PRICE             object\n",
              "dtype: object"
            ],
            "text/html": [
              "<div>\n",
              "<style scoped>\n",
              "    .dataframe tbody tr th:only-of-type {\n",
              "        vertical-align: middle;\n",
              "    }\n",
              "\n",
              "    .dataframe tbody tr th {\n",
              "        vertical-align: top;\n",
              "    }\n",
              "\n",
              "    .dataframe thead th {\n",
              "        text-align: right;\n",
              "    }\n",
              "</style>\n",
              "<table border=\"1\" class=\"dataframe\">\n",
              "  <thead>\n",
              "    <tr style=\"text-align: right;\">\n",
              "      <th></th>\n",
              "      <th>0</th>\n",
              "    </tr>\n",
              "  </thead>\n",
              "  <tbody>\n",
              "    <tr>\n",
              "      <th>DATE</th>\n",
              "      <td>object</td>\n",
              "    </tr>\n",
              "    <tr>\n",
              "      <th>ANONYMIZED CATEGORY</th>\n",
              "      <td>object</td>\n",
              "    </tr>\n",
              "    <tr>\n",
              "      <th>ANONYMIZED PRODUCT</th>\n",
              "      <td>object</td>\n",
              "    </tr>\n",
              "    <tr>\n",
              "      <th>ANONYMIZED BUSINESS</th>\n",
              "      <td>object</td>\n",
              "    </tr>\n",
              "    <tr>\n",
              "      <th>ANONYMIZED LOCATION</th>\n",
              "      <td>object</td>\n",
              "    </tr>\n",
              "    <tr>\n",
              "      <th>QUANTITY</th>\n",
              "      <td>int64</td>\n",
              "    </tr>\n",
              "    <tr>\n",
              "      <th>UNIT PRICE</th>\n",
              "      <td>object</td>\n",
              "    </tr>\n",
              "  </tbody>\n",
              "</table>\n",
              "</div><br><label><b>dtype:</b> object</label>"
            ]
          },
          "metadata": {},
          "execution_count": 12
        }
      ]
    },
    {
      "cell_type": "markdown",
      "source": [
        "2 rows do not have correct data types:\n",
        "1. DATE\n",
        "2. UNIT PRICE"
      ],
      "metadata": {
        "id": "vTrTnR2EdUVp"
      }
    },
    {
      "cell_type": "code",
      "source": [
        "#change Date Date and Unit Price data type\n",
        "data['DATE'] = pd.to_datetime(data['DATE'])\n",
        "data['UNIT PRICE'] = data['UNIT PRICE'].str.replace(',', '').astype(float)\n"
      ],
      "metadata": {
        "colab": {
          "base_uri": "https://localhost:8080/"
        },
        "id": "LfnBtor0dcbw",
        "outputId": "0b22cc47-7c47-4003-9340-d13093f06e7a"
      },
      "execution_count": null,
      "outputs": [
        {
          "output_type": "stream",
          "name": "stderr",
          "text": [
            "<ipython-input-13-9f97e18fcc40>:2: UserWarning: Could not infer format, so each element will be parsed individually, falling back to `dateutil`. To ensure parsing is consistent and as-expected, please specify a format.\n",
            "  data['DATE'] = pd.to_datetime(data['DATE'])\n"
          ]
        }
      ]
    },
    {
      "cell_type": "code",
      "source": [
        "#confirming the transformation of the data types\n",
        "data.dtypes"
      ],
      "metadata": {
        "colab": {
          "base_uri": "https://localhost:8080/",
          "height": 304
        },
        "id": "vsG5QiI8d78J",
        "outputId": "ccc69b8e-29ff-4dfd-e399-1e9cc9babe9d"
      },
      "execution_count": null,
      "outputs": [
        {
          "output_type": "execute_result",
          "data": {
            "text/plain": [
              "DATE                   datetime64[ns]\n",
              "ANONYMIZED CATEGORY            object\n",
              "ANONYMIZED PRODUCT             object\n",
              "ANONYMIZED BUSINESS            object\n",
              "ANONYMIZED LOCATION            object\n",
              "QUANTITY                        int64\n",
              "UNIT PRICE                    float64\n",
              "dtype: object"
            ],
            "text/html": [
              "<div>\n",
              "<style scoped>\n",
              "    .dataframe tbody tr th:only-of-type {\n",
              "        vertical-align: middle;\n",
              "    }\n",
              "\n",
              "    .dataframe tbody tr th {\n",
              "        vertical-align: top;\n",
              "    }\n",
              "\n",
              "    .dataframe thead th {\n",
              "        text-align: right;\n",
              "    }\n",
              "</style>\n",
              "<table border=\"1\" class=\"dataframe\">\n",
              "  <thead>\n",
              "    <tr style=\"text-align: right;\">\n",
              "      <th></th>\n",
              "      <th>0</th>\n",
              "    </tr>\n",
              "  </thead>\n",
              "  <tbody>\n",
              "    <tr>\n",
              "      <th>DATE</th>\n",
              "      <td>datetime64[ns]</td>\n",
              "    </tr>\n",
              "    <tr>\n",
              "      <th>ANONYMIZED CATEGORY</th>\n",
              "      <td>object</td>\n",
              "    </tr>\n",
              "    <tr>\n",
              "      <th>ANONYMIZED PRODUCT</th>\n",
              "      <td>object</td>\n",
              "    </tr>\n",
              "    <tr>\n",
              "      <th>ANONYMIZED BUSINESS</th>\n",
              "      <td>object</td>\n",
              "    </tr>\n",
              "    <tr>\n",
              "      <th>ANONYMIZED LOCATION</th>\n",
              "      <td>object</td>\n",
              "    </tr>\n",
              "    <tr>\n",
              "      <th>QUANTITY</th>\n",
              "      <td>int64</td>\n",
              "    </tr>\n",
              "    <tr>\n",
              "      <th>UNIT PRICE</th>\n",
              "      <td>float64</td>\n",
              "    </tr>\n",
              "  </tbody>\n",
              "</table>\n",
              "</div><br><label><b>dtype:</b> object</label>"
            ]
          },
          "metadata": {},
          "execution_count": 14
        }
      ]
    },
    {
      "cell_type": "markdown",
      "source": [
        "We see that the data types have been successfully updated."
      ],
      "metadata": {
        "id": "BX2PuxiKlFg4"
      }
    },
    {
      "cell_type": "markdown",
      "source": [
        "## Handling Missing Values"
      ],
      "metadata": {
        "id": "ZjWGjpSlPS_5"
      }
    },
    {
      "cell_type": "code",
      "source": [
        "#Getting a more comprehensive view of the data\n",
        "data.info()"
      ],
      "metadata": {
        "colab": {
          "base_uri": "https://localhost:8080/"
        },
        "id": "TERxVfrHNfRu",
        "outputId": "b3aefa62-aa26-49db-d21d-c0abc1a2428d"
      },
      "execution_count": null,
      "outputs": [
        {
          "output_type": "stream",
          "name": "stdout",
          "text": [
            "<class 'pandas.core.frame.DataFrame'>\n",
            "RangeIndex: 333405 entries, 0 to 333404\n",
            "Data columns (total 7 columns):\n",
            " #   Column               Non-Null Count   Dtype         \n",
            "---  ------               --------------   -----         \n",
            " 0   DATE                 333405 non-null  datetime64[ns]\n",
            " 1   ANONYMIZED CATEGORY  333405 non-null  object        \n",
            " 2   ANONYMIZED PRODUCT   333405 non-null  object        \n",
            " 3   ANONYMIZED BUSINESS  333405 non-null  object        \n",
            " 4   ANONYMIZED LOCATION  333405 non-null  object        \n",
            " 5   QUANTITY             333405 non-null  int64         \n",
            " 6   UNIT PRICE           333397 non-null  float64       \n",
            "dtypes: datetime64[ns](1), float64(1), int64(1), object(4)\n",
            "memory usage: 17.8+ MB\n"
          ]
        }
      ]
    },
    {
      "cell_type": "markdown",
      "source": [
        "Above, we see:\n",
        "* 8 rows are null, in the UNIT PRICE column\n",
        "* further confirmation of the change in data types for DATE and UNIT PRICE"
      ],
      "metadata": {
        "id": "KIkTNlJkkp_h"
      }
    },
    {
      "cell_type": "code",
      "source": [
        "#Confirming number of missing values\n",
        "data.isnull().sum()"
      ],
      "metadata": {
        "colab": {
          "base_uri": "https://localhost:8080/",
          "height": 304
        },
        "id": "OopDqLrFOgsj",
        "outputId": "55c61e55-e9a2-4a7e-f291-afb84aa9a525"
      },
      "execution_count": null,
      "outputs": [
        {
          "output_type": "execute_result",
          "data": {
            "text/plain": [
              "DATE                   0\n",
              "ANONYMIZED CATEGORY    0\n",
              "ANONYMIZED PRODUCT     0\n",
              "ANONYMIZED BUSINESS    0\n",
              "ANONYMIZED LOCATION    0\n",
              "QUANTITY               0\n",
              "UNIT PRICE             8\n",
              "dtype: int64"
            ],
            "text/html": [
              "<div>\n",
              "<style scoped>\n",
              "    .dataframe tbody tr th:only-of-type {\n",
              "        vertical-align: middle;\n",
              "    }\n",
              "\n",
              "    .dataframe tbody tr th {\n",
              "        vertical-align: top;\n",
              "    }\n",
              "\n",
              "    .dataframe thead th {\n",
              "        text-align: right;\n",
              "    }\n",
              "</style>\n",
              "<table border=\"1\" class=\"dataframe\">\n",
              "  <thead>\n",
              "    <tr style=\"text-align: right;\">\n",
              "      <th></th>\n",
              "      <th>0</th>\n",
              "    </tr>\n",
              "  </thead>\n",
              "  <tbody>\n",
              "    <tr>\n",
              "      <th>DATE</th>\n",
              "      <td>0</td>\n",
              "    </tr>\n",
              "    <tr>\n",
              "      <th>ANONYMIZED CATEGORY</th>\n",
              "      <td>0</td>\n",
              "    </tr>\n",
              "    <tr>\n",
              "      <th>ANONYMIZED PRODUCT</th>\n",
              "      <td>0</td>\n",
              "    </tr>\n",
              "    <tr>\n",
              "      <th>ANONYMIZED BUSINESS</th>\n",
              "      <td>0</td>\n",
              "    </tr>\n",
              "    <tr>\n",
              "      <th>ANONYMIZED LOCATION</th>\n",
              "      <td>0</td>\n",
              "    </tr>\n",
              "    <tr>\n",
              "      <th>QUANTITY</th>\n",
              "      <td>0</td>\n",
              "    </tr>\n",
              "    <tr>\n",
              "      <th>UNIT PRICE</th>\n",
              "      <td>8</td>\n",
              "    </tr>\n",
              "  </tbody>\n",
              "</table>\n",
              "</div><br><label><b>dtype:</b> int64</label>"
            ]
          },
          "metadata": {},
          "execution_count": 16
        }
      ]
    },
    {
      "cell_type": "markdown",
      "source": [
        "Above, we confirm that the last row named UNIT PRICE, there are 8 rows with missing values.\n",
        "\n",
        "As the data also contains the ANONYMIZED PRODUCT COLUMN, it is possible to impute the unit price for these 8 products by using the mean value of other similar products for each product with a missing unit price."
      ],
      "metadata": {
        "id": "OgVWiOWMOT6Z"
      }
    },
    {
      "cell_type": "code",
      "source": [
        "#Imputing the missing Unit Price values given in other rows with the same Product code\n",
        "if data['UNIT PRICE'].isnull().any():\n",
        "    data['UNIT PRICE'].fillna(data.groupby('ANONYMIZED PRODUCT')['UNIT PRICE'].transform('mean'), inplace=True)"
      ],
      "metadata": {
        "colab": {
          "base_uri": "https://localhost:8080/"
        },
        "id": "iVkuKwxYtF5U",
        "outputId": "9d91a003-2a8d-4d68-cdc4-a07607aad436"
      },
      "execution_count": null,
      "outputs": [
        {
          "output_type": "stream",
          "name": "stderr",
          "text": [
            "<ipython-input-17-eb852d60d170>:3: FutureWarning: A value is trying to be set on a copy of a DataFrame or Series through chained assignment using an inplace method.\n",
            "The behavior will change in pandas 3.0. This inplace method will never work because the intermediate object on which we are setting values always behaves as a copy.\n",
            "\n",
            "For example, when doing 'df[col].method(value, inplace=True)', try using 'df.method({col: value}, inplace=True)' or df[col] = df[col].method(value) instead, to perform the operation inplace on the original object.\n",
            "\n",
            "\n",
            "  data['UNIT PRICE'].fillna(data.groupby('ANONYMIZED PRODUCT')['UNIT PRICE'].transform('mean'), inplace=True)\n"
          ]
        }
      ]
    },
    {
      "cell_type": "code",
      "source": [
        "#Reviewing the data again to confirm that null values have been filled\n",
        "data.isnull().sum()"
      ],
      "metadata": {
        "colab": {
          "base_uri": "https://localhost:8080/",
          "height": 304
        },
        "id": "wzm2dW43PFxD",
        "outputId": "0846983f-436a-4721-8ebe-c2c5ad7927cb"
      },
      "execution_count": null,
      "outputs": [
        {
          "output_type": "execute_result",
          "data": {
            "text/plain": [
              "DATE                   0\n",
              "ANONYMIZED CATEGORY    0\n",
              "ANONYMIZED PRODUCT     0\n",
              "ANONYMIZED BUSINESS    0\n",
              "ANONYMIZED LOCATION    0\n",
              "QUANTITY               0\n",
              "UNIT PRICE             3\n",
              "dtype: int64"
            ],
            "text/html": [
              "<div>\n",
              "<style scoped>\n",
              "    .dataframe tbody tr th:only-of-type {\n",
              "        vertical-align: middle;\n",
              "    }\n",
              "\n",
              "    .dataframe tbody tr th {\n",
              "        vertical-align: top;\n",
              "    }\n",
              "\n",
              "    .dataframe thead th {\n",
              "        text-align: right;\n",
              "    }\n",
              "</style>\n",
              "<table border=\"1\" class=\"dataframe\">\n",
              "  <thead>\n",
              "    <tr style=\"text-align: right;\">\n",
              "      <th></th>\n",
              "      <th>0</th>\n",
              "    </tr>\n",
              "  </thead>\n",
              "  <tbody>\n",
              "    <tr>\n",
              "      <th>DATE</th>\n",
              "      <td>0</td>\n",
              "    </tr>\n",
              "    <tr>\n",
              "      <th>ANONYMIZED CATEGORY</th>\n",
              "      <td>0</td>\n",
              "    </tr>\n",
              "    <tr>\n",
              "      <th>ANONYMIZED PRODUCT</th>\n",
              "      <td>0</td>\n",
              "    </tr>\n",
              "    <tr>\n",
              "      <th>ANONYMIZED BUSINESS</th>\n",
              "      <td>0</td>\n",
              "    </tr>\n",
              "    <tr>\n",
              "      <th>ANONYMIZED LOCATION</th>\n",
              "      <td>0</td>\n",
              "    </tr>\n",
              "    <tr>\n",
              "      <th>QUANTITY</th>\n",
              "      <td>0</td>\n",
              "    </tr>\n",
              "    <tr>\n",
              "      <th>UNIT PRICE</th>\n",
              "      <td>3</td>\n",
              "    </tr>\n",
              "  </tbody>\n",
              "</table>\n",
              "</div><br><label><b>dtype:</b> int64</label>"
            ]
          },
          "metadata": {},
          "execution_count": 18
        }
      ]
    },
    {
      "cell_type": "markdown",
      "source": [
        "We can see that we still have 3 rows that still have a null unit price"
      ],
      "metadata": {
        "id": "kXoj1ICkw1Ji"
      }
    },
    {
      "cell_type": "code",
      "source": [
        "#View the 3 rows with null values\n",
        "data[data['UNIT PRICE'].isnull()]"
      ],
      "metadata": {
        "colab": {
          "base_uri": "https://localhost:8080/",
          "height": 144
        },
        "id": "edJG4Clhwe7f",
        "outputId": "7a49a6f5-9172-4629-e3a6-86adad5dc03b"
      },
      "execution_count": null,
      "outputs": [
        {
          "output_type": "execute_result",
          "data": {
            "text/plain": [
              "                      DATE ANONYMIZED CATEGORY ANONYMIZED PRODUCT  \\\n",
              "150961 2024-12-16 18:33:00         Category-79       Product-dfc8   \n",
              "278384 2024-12-30 14:17:00         Category-95       Product-15f3   \n",
              "310385 2024-03-31 14:03:00        Category-114       Product-9204   \n",
              "\n",
              "       ANONYMIZED BUSINESS ANONYMIZED LOCATION  QUANTITY  UNIT PRICE  \n",
              "150961       Business-8bbf       Location-3fc0         1         NaN  \n",
              "278384       Business-1a74       Location-f37d         1         NaN  \n",
              "310385       Business-c9dc       Location-689f         1         NaN  "
            ],
            "text/html": [
              "\n",
              "  <div id=\"df-6d9c8064-b33b-48cf-93a9-2d1fb0d7e805\" class=\"colab-df-container\">\n",
              "    <div>\n",
              "<style scoped>\n",
              "    .dataframe tbody tr th:only-of-type {\n",
              "        vertical-align: middle;\n",
              "    }\n",
              "\n",
              "    .dataframe tbody tr th {\n",
              "        vertical-align: top;\n",
              "    }\n",
              "\n",
              "    .dataframe thead th {\n",
              "        text-align: right;\n",
              "    }\n",
              "</style>\n",
              "<table border=\"1\" class=\"dataframe\">\n",
              "  <thead>\n",
              "    <tr style=\"text-align: right;\">\n",
              "      <th></th>\n",
              "      <th>DATE</th>\n",
              "      <th>ANONYMIZED CATEGORY</th>\n",
              "      <th>ANONYMIZED PRODUCT</th>\n",
              "      <th>ANONYMIZED BUSINESS</th>\n",
              "      <th>ANONYMIZED LOCATION</th>\n",
              "      <th>QUANTITY</th>\n",
              "      <th>UNIT PRICE</th>\n",
              "    </tr>\n",
              "  </thead>\n",
              "  <tbody>\n",
              "    <tr>\n",
              "      <th>150961</th>\n",
              "      <td>2024-12-16 18:33:00</td>\n",
              "      <td>Category-79</td>\n",
              "      <td>Product-dfc8</td>\n",
              "      <td>Business-8bbf</td>\n",
              "      <td>Location-3fc0</td>\n",
              "      <td>1</td>\n",
              "      <td>NaN</td>\n",
              "    </tr>\n",
              "    <tr>\n",
              "      <th>278384</th>\n",
              "      <td>2024-12-30 14:17:00</td>\n",
              "      <td>Category-95</td>\n",
              "      <td>Product-15f3</td>\n",
              "      <td>Business-1a74</td>\n",
              "      <td>Location-f37d</td>\n",
              "      <td>1</td>\n",
              "      <td>NaN</td>\n",
              "    </tr>\n",
              "    <tr>\n",
              "      <th>310385</th>\n",
              "      <td>2024-03-31 14:03:00</td>\n",
              "      <td>Category-114</td>\n",
              "      <td>Product-9204</td>\n",
              "      <td>Business-c9dc</td>\n",
              "      <td>Location-689f</td>\n",
              "      <td>1</td>\n",
              "      <td>NaN</td>\n",
              "    </tr>\n",
              "  </tbody>\n",
              "</table>\n",
              "</div>\n",
              "    <div class=\"colab-df-buttons\">\n",
              "\n",
              "  <div class=\"colab-df-container\">\n",
              "    <button class=\"colab-df-convert\" onclick=\"convertToInteractive('df-6d9c8064-b33b-48cf-93a9-2d1fb0d7e805')\"\n",
              "            title=\"Convert this dataframe to an interactive table.\"\n",
              "            style=\"display:none;\">\n",
              "\n",
              "  <svg xmlns=\"http://www.w3.org/2000/svg\" height=\"24px\" viewBox=\"0 -960 960 960\">\n",
              "    <path d=\"M120-120v-720h720v720H120Zm60-500h600v-160H180v160Zm220 220h160v-160H400v160Zm0 220h160v-160H400v160ZM180-400h160v-160H180v160Zm440 0h160v-160H620v160ZM180-180h160v-160H180v160Zm440 0h160v-160H620v160Z\"/>\n",
              "  </svg>\n",
              "    </button>\n",
              "\n",
              "  <style>\n",
              "    .colab-df-container {\n",
              "      display:flex;\n",
              "      gap: 12px;\n",
              "    }\n",
              "\n",
              "    .colab-df-convert {\n",
              "      background-color: #E8F0FE;\n",
              "      border: none;\n",
              "      border-radius: 50%;\n",
              "      cursor: pointer;\n",
              "      display: none;\n",
              "      fill: #1967D2;\n",
              "      height: 32px;\n",
              "      padding: 0 0 0 0;\n",
              "      width: 32px;\n",
              "    }\n",
              "\n",
              "    .colab-df-convert:hover {\n",
              "      background-color: #E2EBFA;\n",
              "      box-shadow: 0px 1px 2px rgba(60, 64, 67, 0.3), 0px 1px 3px 1px rgba(60, 64, 67, 0.15);\n",
              "      fill: #174EA6;\n",
              "    }\n",
              "\n",
              "    .colab-df-buttons div {\n",
              "      margin-bottom: 4px;\n",
              "    }\n",
              "\n",
              "    [theme=dark] .colab-df-convert {\n",
              "      background-color: #3B4455;\n",
              "      fill: #D2E3FC;\n",
              "    }\n",
              "\n",
              "    [theme=dark] .colab-df-convert:hover {\n",
              "      background-color: #434B5C;\n",
              "      box-shadow: 0px 1px 3px 1px rgba(0, 0, 0, 0.15);\n",
              "      filter: drop-shadow(0px 1px 2px rgba(0, 0, 0, 0.3));\n",
              "      fill: #FFFFFF;\n",
              "    }\n",
              "  </style>\n",
              "\n",
              "    <script>\n",
              "      const buttonEl =\n",
              "        document.querySelector('#df-6d9c8064-b33b-48cf-93a9-2d1fb0d7e805 button.colab-df-convert');\n",
              "      buttonEl.style.display =\n",
              "        google.colab.kernel.accessAllowed ? 'block' : 'none';\n",
              "\n",
              "      async function convertToInteractive(key) {\n",
              "        const element = document.querySelector('#df-6d9c8064-b33b-48cf-93a9-2d1fb0d7e805');\n",
              "        const dataTable =\n",
              "          await google.colab.kernel.invokeFunction('convertToInteractive',\n",
              "                                                    [key], {});\n",
              "        if (!dataTable) return;\n",
              "\n",
              "        const docLinkHtml = 'Like what you see? Visit the ' +\n",
              "          '<a target=\"_blank\" href=https://colab.research.google.com/notebooks/data_table.ipynb>data table notebook</a>'\n",
              "          + ' to learn more about interactive tables.';\n",
              "        element.innerHTML = '';\n",
              "        dataTable['output_type'] = 'display_data';\n",
              "        await google.colab.output.renderOutput(dataTable, element);\n",
              "        const docLink = document.createElement('div');\n",
              "        docLink.innerHTML = docLinkHtml;\n",
              "        element.appendChild(docLink);\n",
              "      }\n",
              "    </script>\n",
              "  </div>\n",
              "\n",
              "\n",
              "<div id=\"df-11c2963f-12c1-4693-b1ae-adfbe0491b10\">\n",
              "  <button class=\"colab-df-quickchart\" onclick=\"quickchart('df-11c2963f-12c1-4693-b1ae-adfbe0491b10')\"\n",
              "            title=\"Suggest charts\"\n",
              "            style=\"display:none;\">\n",
              "\n",
              "<svg xmlns=\"http://www.w3.org/2000/svg\" height=\"24px\"viewBox=\"0 0 24 24\"\n",
              "     width=\"24px\">\n",
              "    <g>\n",
              "        <path d=\"M19 3H5c-1.1 0-2 .9-2 2v14c0 1.1.9 2 2 2h14c1.1 0 2-.9 2-2V5c0-1.1-.9-2-2-2zM9 17H7v-7h2v7zm4 0h-2V7h2v10zm4 0h-2v-4h2v4z\"/>\n",
              "    </g>\n",
              "</svg>\n",
              "  </button>\n",
              "\n",
              "<style>\n",
              "  .colab-df-quickchart {\n",
              "      --bg-color: #E8F0FE;\n",
              "      --fill-color: #1967D2;\n",
              "      --hover-bg-color: #E2EBFA;\n",
              "      --hover-fill-color: #174EA6;\n",
              "      --disabled-fill-color: #AAA;\n",
              "      --disabled-bg-color: #DDD;\n",
              "  }\n",
              "\n",
              "  [theme=dark] .colab-df-quickchart {\n",
              "      --bg-color: #3B4455;\n",
              "      --fill-color: #D2E3FC;\n",
              "      --hover-bg-color: #434B5C;\n",
              "      --hover-fill-color: #FFFFFF;\n",
              "      --disabled-bg-color: #3B4455;\n",
              "      --disabled-fill-color: #666;\n",
              "  }\n",
              "\n",
              "  .colab-df-quickchart {\n",
              "    background-color: var(--bg-color);\n",
              "    border: none;\n",
              "    border-radius: 50%;\n",
              "    cursor: pointer;\n",
              "    display: none;\n",
              "    fill: var(--fill-color);\n",
              "    height: 32px;\n",
              "    padding: 0;\n",
              "    width: 32px;\n",
              "  }\n",
              "\n",
              "  .colab-df-quickchart:hover {\n",
              "    background-color: var(--hover-bg-color);\n",
              "    box-shadow: 0 1px 2px rgba(60, 64, 67, 0.3), 0 1px 3px 1px rgba(60, 64, 67, 0.15);\n",
              "    fill: var(--button-hover-fill-color);\n",
              "  }\n",
              "\n",
              "  .colab-df-quickchart-complete:disabled,\n",
              "  .colab-df-quickchart-complete:disabled:hover {\n",
              "    background-color: var(--disabled-bg-color);\n",
              "    fill: var(--disabled-fill-color);\n",
              "    box-shadow: none;\n",
              "  }\n",
              "\n",
              "  .colab-df-spinner {\n",
              "    border: 2px solid var(--fill-color);\n",
              "    border-color: transparent;\n",
              "    border-bottom-color: var(--fill-color);\n",
              "    animation:\n",
              "      spin 1s steps(1) infinite;\n",
              "  }\n",
              "\n",
              "  @keyframes spin {\n",
              "    0% {\n",
              "      border-color: transparent;\n",
              "      border-bottom-color: var(--fill-color);\n",
              "      border-left-color: var(--fill-color);\n",
              "    }\n",
              "    20% {\n",
              "      border-color: transparent;\n",
              "      border-left-color: var(--fill-color);\n",
              "      border-top-color: var(--fill-color);\n",
              "    }\n",
              "    30% {\n",
              "      border-color: transparent;\n",
              "      border-left-color: var(--fill-color);\n",
              "      border-top-color: var(--fill-color);\n",
              "      border-right-color: var(--fill-color);\n",
              "    }\n",
              "    40% {\n",
              "      border-color: transparent;\n",
              "      border-right-color: var(--fill-color);\n",
              "      border-top-color: var(--fill-color);\n",
              "    }\n",
              "    60% {\n",
              "      border-color: transparent;\n",
              "      border-right-color: var(--fill-color);\n",
              "    }\n",
              "    80% {\n",
              "      border-color: transparent;\n",
              "      border-right-color: var(--fill-color);\n",
              "      border-bottom-color: var(--fill-color);\n",
              "    }\n",
              "    90% {\n",
              "      border-color: transparent;\n",
              "      border-bottom-color: var(--fill-color);\n",
              "    }\n",
              "  }\n",
              "</style>\n",
              "\n",
              "  <script>\n",
              "    async function quickchart(key) {\n",
              "      const quickchartButtonEl =\n",
              "        document.querySelector('#' + key + ' button');\n",
              "      quickchartButtonEl.disabled = true;  // To prevent multiple clicks.\n",
              "      quickchartButtonEl.classList.add('colab-df-spinner');\n",
              "      try {\n",
              "        const charts = await google.colab.kernel.invokeFunction(\n",
              "            'suggestCharts', [key], {});\n",
              "      } catch (error) {\n",
              "        console.error('Error during call to suggestCharts:', error);\n",
              "      }\n",
              "      quickchartButtonEl.classList.remove('colab-df-spinner');\n",
              "      quickchartButtonEl.classList.add('colab-df-quickchart-complete');\n",
              "    }\n",
              "    (() => {\n",
              "      let quickchartButtonEl =\n",
              "        document.querySelector('#df-11c2963f-12c1-4693-b1ae-adfbe0491b10 button');\n",
              "      quickchartButtonEl.style.display =\n",
              "        google.colab.kernel.accessAllowed ? 'block' : 'none';\n",
              "    })();\n",
              "  </script>\n",
              "</div>\n",
              "\n",
              "    </div>\n",
              "  </div>\n"
            ],
            "application/vnd.google.colaboratory.intrinsic+json": {
              "type": "dataframe",
              "summary": "{\n  \"name\": \"data[data['UNIT PRICE']\",\n  \"rows\": 3,\n  \"fields\": [\n    {\n      \"column\": \"DATE\",\n      \"properties\": {\n        \"dtype\": \"date\",\n        \"min\": \"2024-03-31 14:03:00\",\n        \"max\": \"2024-12-30 14:17:00\",\n        \"num_unique_values\": 3,\n        \"samples\": [\n          \"2024-12-16 18:33:00\",\n          \"2024-12-30 14:17:00\",\n          \"2024-03-31 14:03:00\"\n        ],\n        \"semantic_type\": \"\",\n        \"description\": \"\"\n      }\n    },\n    {\n      \"column\": \"ANONYMIZED CATEGORY\",\n      \"properties\": {\n        \"dtype\": \"string\",\n        \"num_unique_values\": 3,\n        \"samples\": [\n          \"Category-79\",\n          \"Category-95\",\n          \"Category-114\"\n        ],\n        \"semantic_type\": \"\",\n        \"description\": \"\"\n      }\n    },\n    {\n      \"column\": \"ANONYMIZED PRODUCT\",\n      \"properties\": {\n        \"dtype\": \"string\",\n        \"num_unique_values\": 3,\n        \"samples\": [\n          \"Product-dfc8\",\n          \"Product-15f3\",\n          \"Product-9204\"\n        ],\n        \"semantic_type\": \"\",\n        \"description\": \"\"\n      }\n    },\n    {\n      \"column\": \"ANONYMIZED BUSINESS\",\n      \"properties\": {\n        \"dtype\": \"string\",\n        \"num_unique_values\": 3,\n        \"samples\": [\n          \"Business-8bbf\",\n          \"Business-1a74\",\n          \"Business-c9dc\"\n        ],\n        \"semantic_type\": \"\",\n        \"description\": \"\"\n      }\n    },\n    {\n      \"column\": \"ANONYMIZED LOCATION\",\n      \"properties\": {\n        \"dtype\": \"string\",\n        \"num_unique_values\": 3,\n        \"samples\": [\n          \"Location-3fc0\",\n          \"Location-f37d\",\n          \"Location-689f\"\n        ],\n        \"semantic_type\": \"\",\n        \"description\": \"\"\n      }\n    },\n    {\n      \"column\": \"QUANTITY\",\n      \"properties\": {\n        \"dtype\": \"number\",\n        \"std\": 0,\n        \"min\": 1,\n        \"max\": 1,\n        \"num_unique_values\": 1,\n        \"samples\": [\n          1\n        ],\n        \"semantic_type\": \"\",\n        \"description\": \"\"\n      }\n    },\n    {\n      \"column\": \"UNIT PRICE\",\n      \"properties\": {\n        \"dtype\": \"number\",\n        \"std\": null,\n        \"min\": null,\n        \"max\": null,\n        \"num_unique_values\": 0,\n        \"samples\": [],\n        \"semantic_type\": \"\",\n        \"description\": \"\"\n      }\n    }\n  ]\n}"
            }
          },
          "metadata": {},
          "execution_count": 19
        }
      ]
    },
    {
      "cell_type": "markdown",
      "source": [
        "We can confirm if there really are no other similar products for each of the 3 products above"
      ],
      "metadata": {
        "id": "S0KQPHOOxSYN"
      }
    },
    {
      "cell_type": "code",
      "source": [
        "#Count the number of rows with Anonymized Product: Product-dfc8\n",
        "data[data['ANONYMIZED PRODUCT'] == 'Product-dfc8'].shape"
      ],
      "metadata": {
        "colab": {
          "base_uri": "https://localhost:8080/"
        },
        "id": "5GzrcJ2FxFJY",
        "outputId": "7b0af101-1528-4583-a205-59d47c040103"
      },
      "execution_count": null,
      "outputs": [
        {
          "output_type": "execute_result",
          "data": {
            "text/plain": [
              "(1, 7)"
            ]
          },
          "metadata": {},
          "execution_count": 20
        }
      ]
    },
    {
      "cell_type": "code",
      "source": [
        "#Count the number of rows with Anonymized Product: Product-dfc8\n",
        "data[data['ANONYMIZED PRODUCT'] == 'Product-15f3'].shape"
      ],
      "metadata": {
        "colab": {
          "base_uri": "https://localhost:8080/"
        },
        "id": "rOaxGAYrxfzz",
        "outputId": "2b38ec29-7f20-405e-afe7-e1ceca75518d"
      },
      "execution_count": null,
      "outputs": [
        {
          "output_type": "execute_result",
          "data": {
            "text/plain": [
              "(1, 7)"
            ]
          },
          "metadata": {},
          "execution_count": 21
        }
      ]
    },
    {
      "cell_type": "code",
      "source": [
        "#Count the number of rows with Anonymized Product: Product-dfc8\n",
        "data[data['ANONYMIZED PRODUCT'] == 'Product-9204'].shape"
      ],
      "metadata": {
        "colab": {
          "base_uri": "https://localhost:8080/"
        },
        "id": "iD1z4yARxmK9",
        "outputId": "f65d26d7-ad45-4923-eadc-137e0cc6cd93"
      },
      "execution_count": null,
      "outputs": [
        {
          "output_type": "execute_result",
          "data": {
            "text/plain": [
              "(1, 7)"
            ]
          },
          "metadata": {},
          "execution_count": 22
        }
      ]
    },
    {
      "cell_type": "markdown",
      "source": [
        "We see that we only have one instance for each of the 3 products with a missing unit price.\n",
        "\n",
        "The only viable option is to drop these rows."
      ],
      "metadata": {
        "id": "HYwp4QrixC4Z"
      }
    },
    {
      "cell_type": "code",
      "source": [
        "#drop null values\n",
        "data.dropna(inplace=True)"
      ],
      "metadata": {
        "id": "iWVnkAOYO9kE"
      },
      "execution_count": null,
      "outputs": []
    },
    {
      "cell_type": "code",
      "source": [
        "#Confirming that the 3 rows have been dropped\n",
        "data.shape"
      ],
      "metadata": {
        "colab": {
          "base_uri": "https://localhost:8080/"
        },
        "id": "LsWBgKKTPMZN",
        "outputId": "36af8df5-0068-4f12-b804-bf4acf4bf897"
      },
      "execution_count": null,
      "outputs": [
        {
          "output_type": "execute_result",
          "data": {
            "text/plain": [
              "(333402, 7)"
            ]
          },
          "metadata": {},
          "execution_count": 24
        }
      ]
    },
    {
      "cell_type": "markdown",
      "source": [
        "The shape of the data shows that the 3 rows with a missing unit price have been dropped."
      ],
      "metadata": {
        "id": "uCiRuDoTx9Sp"
      }
    },
    {
      "cell_type": "markdown",
      "source": [
        "## Handling Duplicates"
      ],
      "metadata": {
        "id": "bfo_cjnePceZ"
      }
    },
    {
      "cell_type": "code",
      "source": [
        "#Checking duplicates\n",
        "data.duplicated().sum()"
      ],
      "metadata": {
        "colab": {
          "base_uri": "https://localhost:8080/"
        },
        "id": "XqU31gnLPhfy",
        "outputId": "73dd8146-3c82-40d8-a467-e9de35718430"
      },
      "execution_count": null,
      "outputs": [
        {
          "output_type": "execute_result",
          "data": {
            "text/plain": [
              "3524"
            ]
          },
          "metadata": {},
          "execution_count": 25
        }
      ]
    },
    {
      "cell_type": "markdown",
      "source": [
        "We see that we have 3524 duplicates, which we need to drop."
      ],
      "metadata": {
        "id": "jPKa8Tl1yEkI"
      }
    },
    {
      "cell_type": "code",
      "source": [
        "#Dropping duplicates\n",
        "data.drop_duplicates(inplace=True)"
      ],
      "metadata": {
        "id": "LmAVcdsSPuUF"
      },
      "execution_count": null,
      "outputs": []
    },
    {
      "cell_type": "code",
      "source": [
        "#Confirming that the rows have been dropped\n",
        "data.shape"
      ],
      "metadata": {
        "colab": {
          "base_uri": "https://localhost:8080/"
        },
        "id": "sHQJ5s7aP0WH",
        "outputId": "cb66c07b-c731-4282-9883-a01fccdeb9fb"
      },
      "execution_count": null,
      "outputs": [
        {
          "output_type": "execute_result",
          "data": {
            "text/plain": [
              "(329878, 7)"
            ]
          },
          "metadata": {},
          "execution_count": 27
        }
      ]
    },
    {
      "cell_type": "markdown",
      "source": [
        "The shape of the data shows that the 3524 duplicates have been dropped."
      ],
      "metadata": {
        "id": "4ntjiV6gyW6W"
      }
    },
    {
      "cell_type": "markdown",
      "source": [
        "## Feature Engineering"
      ],
      "metadata": {
        "id": "UgUs0Te2QsJO"
      }
    },
    {
      "cell_type": "markdown",
      "source": [
        "### Creating the Month_Year Column"
      ],
      "metadata": {
        "id": "5nf8ksyeytM0"
      }
    },
    {
      "cell_type": "code",
      "source": [
        "# Create a new column Month_Year with short-form months\n",
        "data['Month_Year'] = pd.to_datetime(data['DATE']).dt.strftime('%b %Y')"
      ],
      "metadata": {
        "id": "wDfHJgZ8Vhog"
      },
      "execution_count": null,
      "outputs": []
    },
    {
      "cell_type": "code",
      "source": [
        "#Viewing the data to confirm creation of Month_Year column\n",
        "data.head()"
      ],
      "metadata": {
        "id": "KfRbpZsLrSum",
        "outputId": "6107bda5-3292-45ce-9a89-fb85d865feb4",
        "colab": {
          "base_uri": "https://localhost:8080/",
          "height": 206
        }
      },
      "execution_count": null,
      "outputs": [
        {
          "output_type": "execute_result",
          "data": {
            "text/plain": [
              "                 DATE ANONYMIZED CATEGORY ANONYMIZED PRODUCT  \\\n",
              "0 2024-08-18 21:32:00        Category-106       Product-21f4   \n",
              "1 2024-08-18 21:32:00        Category-120       Product-4156   \n",
              "2 2024-08-18 21:32:00        Category-121       Product-49bd   \n",
              "3 2024-08-18 21:32:00         Category-76       Product-61dd   \n",
              "4 2024-08-18 21:32:00        Category-119       Product-66e0   \n",
              "\n",
              "  ANONYMIZED BUSINESS ANONYMIZED LOCATION  QUANTITY  UNIT PRICE Month_Year  \n",
              "0       Business-de42       Location-1ba8         1       850.0   Aug 2024  \n",
              "1       Business-de42       Location-1ba8         2      1910.0   Aug 2024  \n",
              "2       Business-de42       Location-1ba8         1      3670.0   Aug 2024  \n",
              "3       Business-de42       Location-1ba8         1      2605.0   Aug 2024  \n",
              "4       Business-de42       Location-1ba8         5      1480.0   Aug 2024  "
            ],
            "text/html": [
              "\n",
              "  <div id=\"df-45987d38-b592-42dd-8ddd-0ce0c6810f0e\" class=\"colab-df-container\">\n",
              "    <div>\n",
              "<style scoped>\n",
              "    .dataframe tbody tr th:only-of-type {\n",
              "        vertical-align: middle;\n",
              "    }\n",
              "\n",
              "    .dataframe tbody tr th {\n",
              "        vertical-align: top;\n",
              "    }\n",
              "\n",
              "    .dataframe thead th {\n",
              "        text-align: right;\n",
              "    }\n",
              "</style>\n",
              "<table border=\"1\" class=\"dataframe\">\n",
              "  <thead>\n",
              "    <tr style=\"text-align: right;\">\n",
              "      <th></th>\n",
              "      <th>DATE</th>\n",
              "      <th>ANONYMIZED CATEGORY</th>\n",
              "      <th>ANONYMIZED PRODUCT</th>\n",
              "      <th>ANONYMIZED BUSINESS</th>\n",
              "      <th>ANONYMIZED LOCATION</th>\n",
              "      <th>QUANTITY</th>\n",
              "      <th>UNIT PRICE</th>\n",
              "      <th>Month_Year</th>\n",
              "    </tr>\n",
              "  </thead>\n",
              "  <tbody>\n",
              "    <tr>\n",
              "      <th>0</th>\n",
              "      <td>2024-08-18 21:32:00</td>\n",
              "      <td>Category-106</td>\n",
              "      <td>Product-21f4</td>\n",
              "      <td>Business-de42</td>\n",
              "      <td>Location-1ba8</td>\n",
              "      <td>1</td>\n",
              "      <td>850.0</td>\n",
              "      <td>Aug 2024</td>\n",
              "    </tr>\n",
              "    <tr>\n",
              "      <th>1</th>\n",
              "      <td>2024-08-18 21:32:00</td>\n",
              "      <td>Category-120</td>\n",
              "      <td>Product-4156</td>\n",
              "      <td>Business-de42</td>\n",
              "      <td>Location-1ba8</td>\n",
              "      <td>2</td>\n",
              "      <td>1910.0</td>\n",
              "      <td>Aug 2024</td>\n",
              "    </tr>\n",
              "    <tr>\n",
              "      <th>2</th>\n",
              "      <td>2024-08-18 21:32:00</td>\n",
              "      <td>Category-121</td>\n",
              "      <td>Product-49bd</td>\n",
              "      <td>Business-de42</td>\n",
              "      <td>Location-1ba8</td>\n",
              "      <td>1</td>\n",
              "      <td>3670.0</td>\n",
              "      <td>Aug 2024</td>\n",
              "    </tr>\n",
              "    <tr>\n",
              "      <th>3</th>\n",
              "      <td>2024-08-18 21:32:00</td>\n",
              "      <td>Category-76</td>\n",
              "      <td>Product-61dd</td>\n",
              "      <td>Business-de42</td>\n",
              "      <td>Location-1ba8</td>\n",
              "      <td>1</td>\n",
              "      <td>2605.0</td>\n",
              "      <td>Aug 2024</td>\n",
              "    </tr>\n",
              "    <tr>\n",
              "      <th>4</th>\n",
              "      <td>2024-08-18 21:32:00</td>\n",
              "      <td>Category-119</td>\n",
              "      <td>Product-66e0</td>\n",
              "      <td>Business-de42</td>\n",
              "      <td>Location-1ba8</td>\n",
              "      <td>5</td>\n",
              "      <td>1480.0</td>\n",
              "      <td>Aug 2024</td>\n",
              "    </tr>\n",
              "  </tbody>\n",
              "</table>\n",
              "</div>\n",
              "    <div class=\"colab-df-buttons\">\n",
              "\n",
              "  <div class=\"colab-df-container\">\n",
              "    <button class=\"colab-df-convert\" onclick=\"convertToInteractive('df-45987d38-b592-42dd-8ddd-0ce0c6810f0e')\"\n",
              "            title=\"Convert this dataframe to an interactive table.\"\n",
              "            style=\"display:none;\">\n",
              "\n",
              "  <svg xmlns=\"http://www.w3.org/2000/svg\" height=\"24px\" viewBox=\"0 -960 960 960\">\n",
              "    <path d=\"M120-120v-720h720v720H120Zm60-500h600v-160H180v160Zm220 220h160v-160H400v160Zm0 220h160v-160H400v160ZM180-400h160v-160H180v160Zm440 0h160v-160H620v160ZM180-180h160v-160H180v160Zm440 0h160v-160H620v160Z\"/>\n",
              "  </svg>\n",
              "    </button>\n",
              "\n",
              "  <style>\n",
              "    .colab-df-container {\n",
              "      display:flex;\n",
              "      gap: 12px;\n",
              "    }\n",
              "\n",
              "    .colab-df-convert {\n",
              "      background-color: #E8F0FE;\n",
              "      border: none;\n",
              "      border-radius: 50%;\n",
              "      cursor: pointer;\n",
              "      display: none;\n",
              "      fill: #1967D2;\n",
              "      height: 32px;\n",
              "      padding: 0 0 0 0;\n",
              "      width: 32px;\n",
              "    }\n",
              "\n",
              "    .colab-df-convert:hover {\n",
              "      background-color: #E2EBFA;\n",
              "      box-shadow: 0px 1px 2px rgba(60, 64, 67, 0.3), 0px 1px 3px 1px rgba(60, 64, 67, 0.15);\n",
              "      fill: #174EA6;\n",
              "    }\n",
              "\n",
              "    .colab-df-buttons div {\n",
              "      margin-bottom: 4px;\n",
              "    }\n",
              "\n",
              "    [theme=dark] .colab-df-convert {\n",
              "      background-color: #3B4455;\n",
              "      fill: #D2E3FC;\n",
              "    }\n",
              "\n",
              "    [theme=dark] .colab-df-convert:hover {\n",
              "      background-color: #434B5C;\n",
              "      box-shadow: 0px 1px 3px 1px rgba(0, 0, 0, 0.15);\n",
              "      filter: drop-shadow(0px 1px 2px rgba(0, 0, 0, 0.3));\n",
              "      fill: #FFFFFF;\n",
              "    }\n",
              "  </style>\n",
              "\n",
              "    <script>\n",
              "      const buttonEl =\n",
              "        document.querySelector('#df-45987d38-b592-42dd-8ddd-0ce0c6810f0e button.colab-df-convert');\n",
              "      buttonEl.style.display =\n",
              "        google.colab.kernel.accessAllowed ? 'block' : 'none';\n",
              "\n",
              "      async function convertToInteractive(key) {\n",
              "        const element = document.querySelector('#df-45987d38-b592-42dd-8ddd-0ce0c6810f0e');\n",
              "        const dataTable =\n",
              "          await google.colab.kernel.invokeFunction('convertToInteractive',\n",
              "                                                    [key], {});\n",
              "        if (!dataTable) return;\n",
              "\n",
              "        const docLinkHtml = 'Like what you see? Visit the ' +\n",
              "          '<a target=\"_blank\" href=https://colab.research.google.com/notebooks/data_table.ipynb>data table notebook</a>'\n",
              "          + ' to learn more about interactive tables.';\n",
              "        element.innerHTML = '';\n",
              "        dataTable['output_type'] = 'display_data';\n",
              "        await google.colab.output.renderOutput(dataTable, element);\n",
              "        const docLink = document.createElement('div');\n",
              "        docLink.innerHTML = docLinkHtml;\n",
              "        element.appendChild(docLink);\n",
              "      }\n",
              "    </script>\n",
              "  </div>\n",
              "\n",
              "\n",
              "<div id=\"df-ccb77c44-b677-4f3e-a4a0-6ddee98779d1\">\n",
              "  <button class=\"colab-df-quickchart\" onclick=\"quickchart('df-ccb77c44-b677-4f3e-a4a0-6ddee98779d1')\"\n",
              "            title=\"Suggest charts\"\n",
              "            style=\"display:none;\">\n",
              "\n",
              "<svg xmlns=\"http://www.w3.org/2000/svg\" height=\"24px\"viewBox=\"0 0 24 24\"\n",
              "     width=\"24px\">\n",
              "    <g>\n",
              "        <path d=\"M19 3H5c-1.1 0-2 .9-2 2v14c0 1.1.9 2 2 2h14c1.1 0 2-.9 2-2V5c0-1.1-.9-2-2-2zM9 17H7v-7h2v7zm4 0h-2V7h2v10zm4 0h-2v-4h2v4z\"/>\n",
              "    </g>\n",
              "</svg>\n",
              "  </button>\n",
              "\n",
              "<style>\n",
              "  .colab-df-quickchart {\n",
              "      --bg-color: #E8F0FE;\n",
              "      --fill-color: #1967D2;\n",
              "      --hover-bg-color: #E2EBFA;\n",
              "      --hover-fill-color: #174EA6;\n",
              "      --disabled-fill-color: #AAA;\n",
              "      --disabled-bg-color: #DDD;\n",
              "  }\n",
              "\n",
              "  [theme=dark] .colab-df-quickchart {\n",
              "      --bg-color: #3B4455;\n",
              "      --fill-color: #D2E3FC;\n",
              "      --hover-bg-color: #434B5C;\n",
              "      --hover-fill-color: #FFFFFF;\n",
              "      --disabled-bg-color: #3B4455;\n",
              "      --disabled-fill-color: #666;\n",
              "  }\n",
              "\n",
              "  .colab-df-quickchart {\n",
              "    background-color: var(--bg-color);\n",
              "    border: none;\n",
              "    border-radius: 50%;\n",
              "    cursor: pointer;\n",
              "    display: none;\n",
              "    fill: var(--fill-color);\n",
              "    height: 32px;\n",
              "    padding: 0;\n",
              "    width: 32px;\n",
              "  }\n",
              "\n",
              "  .colab-df-quickchart:hover {\n",
              "    background-color: var(--hover-bg-color);\n",
              "    box-shadow: 0 1px 2px rgba(60, 64, 67, 0.3), 0 1px 3px 1px rgba(60, 64, 67, 0.15);\n",
              "    fill: var(--button-hover-fill-color);\n",
              "  }\n",
              "\n",
              "  .colab-df-quickchart-complete:disabled,\n",
              "  .colab-df-quickchart-complete:disabled:hover {\n",
              "    background-color: var(--disabled-bg-color);\n",
              "    fill: var(--disabled-fill-color);\n",
              "    box-shadow: none;\n",
              "  }\n",
              "\n",
              "  .colab-df-spinner {\n",
              "    border: 2px solid var(--fill-color);\n",
              "    border-color: transparent;\n",
              "    border-bottom-color: var(--fill-color);\n",
              "    animation:\n",
              "      spin 1s steps(1) infinite;\n",
              "  }\n",
              "\n",
              "  @keyframes spin {\n",
              "    0% {\n",
              "      border-color: transparent;\n",
              "      border-bottom-color: var(--fill-color);\n",
              "      border-left-color: var(--fill-color);\n",
              "    }\n",
              "    20% {\n",
              "      border-color: transparent;\n",
              "      border-left-color: var(--fill-color);\n",
              "      border-top-color: var(--fill-color);\n",
              "    }\n",
              "    30% {\n",
              "      border-color: transparent;\n",
              "      border-left-color: var(--fill-color);\n",
              "      border-top-color: var(--fill-color);\n",
              "      border-right-color: var(--fill-color);\n",
              "    }\n",
              "    40% {\n",
              "      border-color: transparent;\n",
              "      border-right-color: var(--fill-color);\n",
              "      border-top-color: var(--fill-color);\n",
              "    }\n",
              "    60% {\n",
              "      border-color: transparent;\n",
              "      border-right-color: var(--fill-color);\n",
              "    }\n",
              "    80% {\n",
              "      border-color: transparent;\n",
              "      border-right-color: var(--fill-color);\n",
              "      border-bottom-color: var(--fill-color);\n",
              "    }\n",
              "    90% {\n",
              "      border-color: transparent;\n",
              "      border-bottom-color: var(--fill-color);\n",
              "    }\n",
              "  }\n",
              "</style>\n",
              "\n",
              "  <script>\n",
              "    async function quickchart(key) {\n",
              "      const quickchartButtonEl =\n",
              "        document.querySelector('#' + key + ' button');\n",
              "      quickchartButtonEl.disabled = true;  // To prevent multiple clicks.\n",
              "      quickchartButtonEl.classList.add('colab-df-spinner');\n",
              "      try {\n",
              "        const charts = await google.colab.kernel.invokeFunction(\n",
              "            'suggestCharts', [key], {});\n",
              "      } catch (error) {\n",
              "        console.error('Error during call to suggestCharts:', error);\n",
              "      }\n",
              "      quickchartButtonEl.classList.remove('colab-df-spinner');\n",
              "      quickchartButtonEl.classList.add('colab-df-quickchart-complete');\n",
              "    }\n",
              "    (() => {\n",
              "      let quickchartButtonEl =\n",
              "        document.querySelector('#df-ccb77c44-b677-4f3e-a4a0-6ddee98779d1 button');\n",
              "      quickchartButtonEl.style.display =\n",
              "        google.colab.kernel.accessAllowed ? 'block' : 'none';\n",
              "    })();\n",
              "  </script>\n",
              "</div>\n",
              "\n",
              "    </div>\n",
              "  </div>\n"
            ],
            "application/vnd.google.colaboratory.intrinsic+json": {
              "type": "dataframe",
              "variable_name": "data"
            }
          },
          "metadata": {},
          "execution_count": 29
        }
      ]
    },
    {
      "cell_type": "markdown",
      "source": [
        "We have successfully created the Month_Year column"
      ],
      "metadata": {
        "id": "_l4ZXIbVzocF"
      }
    },
    {
      "cell_type": "markdown",
      "source": [
        "###Creating the Value column"
      ],
      "metadata": {
        "id": "dkQDTP-MeQyh"
      }
    },
    {
      "cell_type": "code",
      "source": [
        "#Calculate VALUE column\n",
        "data['VALUE'] = data['QUANTITY'] * data['UNIT PRICE']"
      ],
      "metadata": {
        "id": "q_TEnuC5eWXv"
      },
      "execution_count": null,
      "outputs": []
    },
    {
      "cell_type": "code",
      "source": [
        "#viewing data to confirm creation of VALUE column\n",
        "data.head()"
      ],
      "metadata": {
        "colab": {
          "base_uri": "https://localhost:8080/",
          "height": 206
        },
        "id": "eeMfuBUjehMr",
        "outputId": "edf2d67c-1c1e-48e8-c9af-d717df458594"
      },
      "execution_count": null,
      "outputs": [
        {
          "output_type": "execute_result",
          "data": {
            "text/plain": [
              "                 DATE ANONYMIZED CATEGORY ANONYMIZED PRODUCT  \\\n",
              "0 2024-08-18 21:32:00        Category-106       Product-21f4   \n",
              "1 2024-08-18 21:32:00        Category-120       Product-4156   \n",
              "2 2024-08-18 21:32:00        Category-121       Product-49bd   \n",
              "3 2024-08-18 21:32:00         Category-76       Product-61dd   \n",
              "4 2024-08-18 21:32:00        Category-119       Product-66e0   \n",
              "\n",
              "  ANONYMIZED BUSINESS ANONYMIZED LOCATION  QUANTITY  UNIT PRICE Month_Year  \\\n",
              "0       Business-de42       Location-1ba8         1       850.0   Aug 2024   \n",
              "1       Business-de42       Location-1ba8         2      1910.0   Aug 2024   \n",
              "2       Business-de42       Location-1ba8         1      3670.0   Aug 2024   \n",
              "3       Business-de42       Location-1ba8         1      2605.0   Aug 2024   \n",
              "4       Business-de42       Location-1ba8         5      1480.0   Aug 2024   \n",
              "\n",
              "    VALUE  \n",
              "0   850.0  \n",
              "1  3820.0  \n",
              "2  3670.0  \n",
              "3  2605.0  \n",
              "4  7400.0  "
            ],
            "text/html": [
              "\n",
              "  <div id=\"df-c4135de4-c080-40f1-9729-f940fae2de5c\" class=\"colab-df-container\">\n",
              "    <div>\n",
              "<style scoped>\n",
              "    .dataframe tbody tr th:only-of-type {\n",
              "        vertical-align: middle;\n",
              "    }\n",
              "\n",
              "    .dataframe tbody tr th {\n",
              "        vertical-align: top;\n",
              "    }\n",
              "\n",
              "    .dataframe thead th {\n",
              "        text-align: right;\n",
              "    }\n",
              "</style>\n",
              "<table border=\"1\" class=\"dataframe\">\n",
              "  <thead>\n",
              "    <tr style=\"text-align: right;\">\n",
              "      <th></th>\n",
              "      <th>DATE</th>\n",
              "      <th>ANONYMIZED CATEGORY</th>\n",
              "      <th>ANONYMIZED PRODUCT</th>\n",
              "      <th>ANONYMIZED BUSINESS</th>\n",
              "      <th>ANONYMIZED LOCATION</th>\n",
              "      <th>QUANTITY</th>\n",
              "      <th>UNIT PRICE</th>\n",
              "      <th>Month_Year</th>\n",
              "      <th>VALUE</th>\n",
              "    </tr>\n",
              "  </thead>\n",
              "  <tbody>\n",
              "    <tr>\n",
              "      <th>0</th>\n",
              "      <td>2024-08-18 21:32:00</td>\n",
              "      <td>Category-106</td>\n",
              "      <td>Product-21f4</td>\n",
              "      <td>Business-de42</td>\n",
              "      <td>Location-1ba8</td>\n",
              "      <td>1</td>\n",
              "      <td>850.0</td>\n",
              "      <td>Aug 2024</td>\n",
              "      <td>850.0</td>\n",
              "    </tr>\n",
              "    <tr>\n",
              "      <th>1</th>\n",
              "      <td>2024-08-18 21:32:00</td>\n",
              "      <td>Category-120</td>\n",
              "      <td>Product-4156</td>\n",
              "      <td>Business-de42</td>\n",
              "      <td>Location-1ba8</td>\n",
              "      <td>2</td>\n",
              "      <td>1910.0</td>\n",
              "      <td>Aug 2024</td>\n",
              "      <td>3820.0</td>\n",
              "    </tr>\n",
              "    <tr>\n",
              "      <th>2</th>\n",
              "      <td>2024-08-18 21:32:00</td>\n",
              "      <td>Category-121</td>\n",
              "      <td>Product-49bd</td>\n",
              "      <td>Business-de42</td>\n",
              "      <td>Location-1ba8</td>\n",
              "      <td>1</td>\n",
              "      <td>3670.0</td>\n",
              "      <td>Aug 2024</td>\n",
              "      <td>3670.0</td>\n",
              "    </tr>\n",
              "    <tr>\n",
              "      <th>3</th>\n",
              "      <td>2024-08-18 21:32:00</td>\n",
              "      <td>Category-76</td>\n",
              "      <td>Product-61dd</td>\n",
              "      <td>Business-de42</td>\n",
              "      <td>Location-1ba8</td>\n",
              "      <td>1</td>\n",
              "      <td>2605.0</td>\n",
              "      <td>Aug 2024</td>\n",
              "      <td>2605.0</td>\n",
              "    </tr>\n",
              "    <tr>\n",
              "      <th>4</th>\n",
              "      <td>2024-08-18 21:32:00</td>\n",
              "      <td>Category-119</td>\n",
              "      <td>Product-66e0</td>\n",
              "      <td>Business-de42</td>\n",
              "      <td>Location-1ba8</td>\n",
              "      <td>5</td>\n",
              "      <td>1480.0</td>\n",
              "      <td>Aug 2024</td>\n",
              "      <td>7400.0</td>\n",
              "    </tr>\n",
              "  </tbody>\n",
              "</table>\n",
              "</div>\n",
              "    <div class=\"colab-df-buttons\">\n",
              "\n",
              "  <div class=\"colab-df-container\">\n",
              "    <button class=\"colab-df-convert\" onclick=\"convertToInteractive('df-c4135de4-c080-40f1-9729-f940fae2de5c')\"\n",
              "            title=\"Convert this dataframe to an interactive table.\"\n",
              "            style=\"display:none;\">\n",
              "\n",
              "  <svg xmlns=\"http://www.w3.org/2000/svg\" height=\"24px\" viewBox=\"0 -960 960 960\">\n",
              "    <path d=\"M120-120v-720h720v720H120Zm60-500h600v-160H180v160Zm220 220h160v-160H400v160Zm0 220h160v-160H400v160ZM180-400h160v-160H180v160Zm440 0h160v-160H620v160ZM180-180h160v-160H180v160Zm440 0h160v-160H620v160Z\"/>\n",
              "  </svg>\n",
              "    </button>\n",
              "\n",
              "  <style>\n",
              "    .colab-df-container {\n",
              "      display:flex;\n",
              "      gap: 12px;\n",
              "    }\n",
              "\n",
              "    .colab-df-convert {\n",
              "      background-color: #E8F0FE;\n",
              "      border: none;\n",
              "      border-radius: 50%;\n",
              "      cursor: pointer;\n",
              "      display: none;\n",
              "      fill: #1967D2;\n",
              "      height: 32px;\n",
              "      padding: 0 0 0 0;\n",
              "      width: 32px;\n",
              "    }\n",
              "\n",
              "    .colab-df-convert:hover {\n",
              "      background-color: #E2EBFA;\n",
              "      box-shadow: 0px 1px 2px rgba(60, 64, 67, 0.3), 0px 1px 3px 1px rgba(60, 64, 67, 0.15);\n",
              "      fill: #174EA6;\n",
              "    }\n",
              "\n",
              "    .colab-df-buttons div {\n",
              "      margin-bottom: 4px;\n",
              "    }\n",
              "\n",
              "    [theme=dark] .colab-df-convert {\n",
              "      background-color: #3B4455;\n",
              "      fill: #D2E3FC;\n",
              "    }\n",
              "\n",
              "    [theme=dark] .colab-df-convert:hover {\n",
              "      background-color: #434B5C;\n",
              "      box-shadow: 0px 1px 3px 1px rgba(0, 0, 0, 0.15);\n",
              "      filter: drop-shadow(0px 1px 2px rgba(0, 0, 0, 0.3));\n",
              "      fill: #FFFFFF;\n",
              "    }\n",
              "  </style>\n",
              "\n",
              "    <script>\n",
              "      const buttonEl =\n",
              "        document.querySelector('#df-c4135de4-c080-40f1-9729-f940fae2de5c button.colab-df-convert');\n",
              "      buttonEl.style.display =\n",
              "        google.colab.kernel.accessAllowed ? 'block' : 'none';\n",
              "\n",
              "      async function convertToInteractive(key) {\n",
              "        const element = document.querySelector('#df-c4135de4-c080-40f1-9729-f940fae2de5c');\n",
              "        const dataTable =\n",
              "          await google.colab.kernel.invokeFunction('convertToInteractive',\n",
              "                                                    [key], {});\n",
              "        if (!dataTable) return;\n",
              "\n",
              "        const docLinkHtml = 'Like what you see? Visit the ' +\n",
              "          '<a target=\"_blank\" href=https://colab.research.google.com/notebooks/data_table.ipynb>data table notebook</a>'\n",
              "          + ' to learn more about interactive tables.';\n",
              "        element.innerHTML = '';\n",
              "        dataTable['output_type'] = 'display_data';\n",
              "        await google.colab.output.renderOutput(dataTable, element);\n",
              "        const docLink = document.createElement('div');\n",
              "        docLink.innerHTML = docLinkHtml;\n",
              "        element.appendChild(docLink);\n",
              "      }\n",
              "    </script>\n",
              "  </div>\n",
              "\n",
              "\n",
              "<div id=\"df-d18ca831-c315-4df9-9d68-f6c8afa5301f\">\n",
              "  <button class=\"colab-df-quickchart\" onclick=\"quickchart('df-d18ca831-c315-4df9-9d68-f6c8afa5301f')\"\n",
              "            title=\"Suggest charts\"\n",
              "            style=\"display:none;\">\n",
              "\n",
              "<svg xmlns=\"http://www.w3.org/2000/svg\" height=\"24px\"viewBox=\"0 0 24 24\"\n",
              "     width=\"24px\">\n",
              "    <g>\n",
              "        <path d=\"M19 3H5c-1.1 0-2 .9-2 2v14c0 1.1.9 2 2 2h14c1.1 0 2-.9 2-2V5c0-1.1-.9-2-2-2zM9 17H7v-7h2v7zm4 0h-2V7h2v10zm4 0h-2v-4h2v4z\"/>\n",
              "    </g>\n",
              "</svg>\n",
              "  </button>\n",
              "\n",
              "<style>\n",
              "  .colab-df-quickchart {\n",
              "      --bg-color: #E8F0FE;\n",
              "      --fill-color: #1967D2;\n",
              "      --hover-bg-color: #E2EBFA;\n",
              "      --hover-fill-color: #174EA6;\n",
              "      --disabled-fill-color: #AAA;\n",
              "      --disabled-bg-color: #DDD;\n",
              "  }\n",
              "\n",
              "  [theme=dark] .colab-df-quickchart {\n",
              "      --bg-color: #3B4455;\n",
              "      --fill-color: #D2E3FC;\n",
              "      --hover-bg-color: #434B5C;\n",
              "      --hover-fill-color: #FFFFFF;\n",
              "      --disabled-bg-color: #3B4455;\n",
              "      --disabled-fill-color: #666;\n",
              "  }\n",
              "\n",
              "  .colab-df-quickchart {\n",
              "    background-color: var(--bg-color);\n",
              "    border: none;\n",
              "    border-radius: 50%;\n",
              "    cursor: pointer;\n",
              "    display: none;\n",
              "    fill: var(--fill-color);\n",
              "    height: 32px;\n",
              "    padding: 0;\n",
              "    width: 32px;\n",
              "  }\n",
              "\n",
              "  .colab-df-quickchart:hover {\n",
              "    background-color: var(--hover-bg-color);\n",
              "    box-shadow: 0 1px 2px rgba(60, 64, 67, 0.3), 0 1px 3px 1px rgba(60, 64, 67, 0.15);\n",
              "    fill: var(--button-hover-fill-color);\n",
              "  }\n",
              "\n",
              "  .colab-df-quickchart-complete:disabled,\n",
              "  .colab-df-quickchart-complete:disabled:hover {\n",
              "    background-color: var(--disabled-bg-color);\n",
              "    fill: var(--disabled-fill-color);\n",
              "    box-shadow: none;\n",
              "  }\n",
              "\n",
              "  .colab-df-spinner {\n",
              "    border: 2px solid var(--fill-color);\n",
              "    border-color: transparent;\n",
              "    border-bottom-color: var(--fill-color);\n",
              "    animation:\n",
              "      spin 1s steps(1) infinite;\n",
              "  }\n",
              "\n",
              "  @keyframes spin {\n",
              "    0% {\n",
              "      border-color: transparent;\n",
              "      border-bottom-color: var(--fill-color);\n",
              "      border-left-color: var(--fill-color);\n",
              "    }\n",
              "    20% {\n",
              "      border-color: transparent;\n",
              "      border-left-color: var(--fill-color);\n",
              "      border-top-color: var(--fill-color);\n",
              "    }\n",
              "    30% {\n",
              "      border-color: transparent;\n",
              "      border-left-color: var(--fill-color);\n",
              "      border-top-color: var(--fill-color);\n",
              "      border-right-color: var(--fill-color);\n",
              "    }\n",
              "    40% {\n",
              "      border-color: transparent;\n",
              "      border-right-color: var(--fill-color);\n",
              "      border-top-color: var(--fill-color);\n",
              "    }\n",
              "    60% {\n",
              "      border-color: transparent;\n",
              "      border-right-color: var(--fill-color);\n",
              "    }\n",
              "    80% {\n",
              "      border-color: transparent;\n",
              "      border-right-color: var(--fill-color);\n",
              "      border-bottom-color: var(--fill-color);\n",
              "    }\n",
              "    90% {\n",
              "      border-color: transparent;\n",
              "      border-bottom-color: var(--fill-color);\n",
              "    }\n",
              "  }\n",
              "</style>\n",
              "\n",
              "  <script>\n",
              "    async function quickchart(key) {\n",
              "      const quickchartButtonEl =\n",
              "        document.querySelector('#' + key + ' button');\n",
              "      quickchartButtonEl.disabled = true;  // To prevent multiple clicks.\n",
              "      quickchartButtonEl.classList.add('colab-df-spinner');\n",
              "      try {\n",
              "        const charts = await google.colab.kernel.invokeFunction(\n",
              "            'suggestCharts', [key], {});\n",
              "      } catch (error) {\n",
              "        console.error('Error during call to suggestCharts:', error);\n",
              "      }\n",
              "      quickchartButtonEl.classList.remove('colab-df-spinner');\n",
              "      quickchartButtonEl.classList.add('colab-df-quickchart-complete');\n",
              "    }\n",
              "    (() => {\n",
              "      let quickchartButtonEl =\n",
              "        document.querySelector('#df-d18ca831-c315-4df9-9d68-f6c8afa5301f button');\n",
              "      quickchartButtonEl.style.display =\n",
              "        google.colab.kernel.accessAllowed ? 'block' : 'none';\n",
              "    })();\n",
              "  </script>\n",
              "</div>\n",
              "\n",
              "    </div>\n",
              "  </div>\n"
            ],
            "application/vnd.google.colaboratory.intrinsic+json": {
              "type": "dataframe",
              "variable_name": "data"
            }
          },
          "metadata": {},
          "execution_count": 31
        }
      ]
    },
    {
      "cell_type": "code",
      "source": [
        "#Checking data type of VALUE column\n",
        "data['VALUE'].dtype"
      ],
      "metadata": {
        "colab": {
          "base_uri": "https://localhost:8080/"
        },
        "id": "80_Q1G3FzFP1",
        "outputId": "061cfdca-6efa-4d6d-ad72-02b317240791"
      },
      "execution_count": null,
      "outputs": [
        {
          "output_type": "execute_result",
          "data": {
            "text/plain": [
              "dtype('float64')"
            ]
          },
          "metadata": {},
          "execution_count": 32
        }
      ]
    },
    {
      "cell_type": "markdown",
      "source": [
        "We have successfully created the VALUE column of float data type."
      ],
      "metadata": {
        "id": "WOp2SwAgz8Zy"
      }
    },
    {
      "cell_type": "markdown",
      "source": [
        "#2. Exploratory Data Analysis"
      ],
      "metadata": {
        "id": "hB89Ul1STrtd"
      }
    },
    {
      "cell_type": "markdown",
      "source": [
        "## Sales Overview"
      ],
      "metadata": {
        "id": "UH8TTUtbT7La"
      }
    },
    {
      "cell_type": "markdown",
      "source": [
        "###Total Quantity and Value by Anonymized Category"
      ],
      "metadata": {
        "id": "KQWENlBpY-MK"
      }
    },
    {
      "cell_type": "code",
      "source": [
        "#calculate total Quantity and Value grouped by Anonymized Category\n",
        "category_by_quantity_value = data.groupby('ANONYMIZED CATEGORY')[['QUANTITY', 'VALUE']].sum()\n",
        "#Viewing the category_by_quantity_value table\n",
        "print(category_by_quantity_value)"
      ],
      "metadata": {
        "colab": {
          "base_uri": "https://localhost:8080/"
        },
        "id": "4dqYEPyMhyXr",
        "outputId": "9b097320-fc62-450f-b8e3-485b5b5cbc4c"
      },
      "execution_count": null,
      "outputs": [
        {
          "output_type": "stream",
          "name": "stdout",
          "text": [
            "                     QUANTITY         VALUE\n",
            "ANONYMIZED CATEGORY                        \n",
            "Category-100            76824  1.349028e+08\n",
            "Category-101            19585  3.561719e+07\n",
            "Category-102             1786  4.644630e+05\n",
            "Category-104             1217  1.557598e+06\n",
            "Category-105             1579  2.690719e+06\n",
            "Category-106             6521  5.932763e+06\n",
            "Category-107             2730  4.172371e+06\n",
            "Category-108             9756  5.101375e+06\n",
            "Category-109             1446  1.263226e+06\n",
            "Category-110            10529  5.483386e+06\n",
            "Category-111             6715  4.387343e+06\n",
            "Category-113              741  1.254083e+06\n",
            "Category-114                3  8.600000e+03\n",
            "Category-115              348  4.253600e+05\n",
            "Category-116              856  4.227450e+05\n",
            "Category-117                5  1.550000e+03\n",
            "Category-118               21  7.560000e+03\n",
            "Category-119            68332  1.034548e+08\n",
            "Category-120           169715  3.191787e+08\n",
            "Category-121            14669  2.232764e+07\n",
            "Category-122             1226  3.500920e+06\n",
            "Category-123              286  7.307300e+05\n",
            "Category-124                4  1.006000e+04\n",
            "Category-125              123  2.970600e+05\n",
            "Category-74               941  1.927871e+06\n",
            "Category-75            151330  5.446587e+08\n",
            "Category-76             71719  3.449396e+08\n",
            "Category-77             28455  7.674138e+07\n",
            "Category-78              9766  9.792609e+06\n",
            "Category-79              2215  1.184953e+06\n",
            "Category-81               142  7.206100e+04\n",
            "Category-82              4759  3.930818e+06\n",
            "Category-83              2436  4.039483e+06\n",
            "Category-84             11933  6.798158e+06\n",
            "Category-85             22997  3.376253e+07\n",
            "Category-86                 8  3.320000e+03\n",
            "Category-89               238  1.368500e+05\n",
            "Category-90                15  1.575000e+04\n",
            "Category-91             20853  4.415210e+07\n",
            "Category-92              6954  1.047027e+07\n",
            "Category-94             23670  1.675254e+07\n",
            "Category-95              4116  7.466932e+06\n",
            "Category-96              1427  2.249424e+06\n",
            "Category-97              2711  2.628309e+06\n",
            "Category-98              2152  2.519695e+06\n",
            "Category-99              1964  1.589480e+06\n"
          ]
        }
      ]
    },
    {
      "cell_type": "code",
      "source": [
        "#Plotting chart for QUANTITY by ANONYMIZED CATEGORY\n",
        "plt.figure(figsize=(15, 6))\n",
        "category_by_quantity_value['QUANTITY'].plot(kind='bar', color='skyblue')\n"
      ],
      "metadata": {
        "colab": {
          "base_uri": "https://localhost:8080/",
          "height": 640
        },
        "id": "YnwezpKM2SVR",
        "outputId": "c0909264-5edf-4f2a-f117-f5b44b07b5eb"
      },
      "execution_count": null,
      "outputs": [
        {
          "output_type": "execute_result",
          "data": {
            "text/plain": [
              "<Axes: xlabel='ANONYMIZED CATEGORY'>"
            ]
          },
          "metadata": {},
          "execution_count": 34
        },
        {
          "output_type": "display_data",
          "data": {
            "text/plain": [
              "<Figure size 1500x600 with 1 Axes>"
            ],
            "image/png": "[encoded data removed]"
          },
          "metadata": {}
        }
      ]
    },
    {
      "cell_type": "code",
      "source": [
        "#Plotting chart for VALUE by ANONYMIZED CATEGORY\n",
        "plt.figure(figsize=(15, 6))\n",
        "category_by_quantity_value['VALUE'].plot(kind='bar', color='orange')"
      ],
      "metadata": {
        "colab": {
          "base_uri": "https://localhost:8080/",
          "height": 655
        },
        "id": "yXESghLX3nOR",
        "outputId": "b79f6e51-1d7f-4675-e669-a9f3a4e9c249"
      },
      "execution_count": null,
      "outputs": [
        {
          "output_type": "execute_result",
          "data": {
            "text/plain": [
              "<Axes: xlabel='ANONYMIZED CATEGORY'>"
            ]
          },
          "metadata": {},
          "execution_count": 35
        },
        {
          "output_type": "display_data",
          "data": {
            "text/plain": [
              "<Figure size 1500x600 with 1 Axes>"
            ],
            "image/png": "[encoded data removed]"
          },
          "metadata": {}
        }
      ]
    },
    {
      "cell_type": "markdown",
      "source": [
        "###Total Quantity and Value by Anonymized Business"
      ],
      "metadata": {
        "id": "0f5XH3Uc018I"
      }
    },
    {
      "cell_type": "code",
      "source": [
        "#Calculate total Quantity and Value grouped by Anonymized Business\n",
        "business_by_quantity_value = data.groupby('ANONYMIZED BUSINESS')[['QUANTITY', 'VALUE']].sum()\n",
        "print(business_by_quantity_value)"
      ],
      "metadata": {
        "colab": {
          "base_uri": "https://localhost:8080/"
        },
        "id": "M3CcHxeN09kx",
        "outputId": "d83c06cb-ff98-4b5f-8658-e4fe5af688eb"
      },
      "execution_count": null,
      "outputs": [
        {
          "output_type": "stream",
          "name": "stdout",
          "text": [
            "                     QUANTITY     VALUE\n",
            "ANONYMIZED BUSINESS                    \n",
            "Business-0000               8   10445.0\n",
            "Business-0005               1    2645.0\n",
            "Business-0029              26   77340.0\n",
            "Business-003d              98  221761.0\n",
            "Business-0072             127  225056.0\n",
            "...                       ...       ...\n",
            "Business-ffa9               3    6740.0\n",
            "Business-ffae               6   10530.0\n",
            "Business-ffb1             266  438115.0\n",
            "Business-ffd2              37   67723.0\n",
            "Business-ffff             110  110285.0\n",
            "\n",
            "[4800 rows x 2 columns]\n"
          ]
        }
      ]
    },
    {
      "cell_type": "markdown",
      "source": [
        "4800 rows may not be easily visualized as in the previous section.\n"
      ],
      "metadata": {
        "id": "r6Gi6zr6X0tt"
      }
    },
    {
      "cell_type": "markdown",
      "source": [
        "## Trends over Time\n"
      ],
      "metadata": {
        "id": "ghVrwln3mt10"
      }
    },
    {
      "cell_type": "markdown",
      "source": [
        "### Sales Trends (Values) Over Time"
      ],
      "metadata": {
        "id": "EGVvFbryZxPV"
      }
    },
    {
      "cell_type": "code",
      "source": [
        "#Value Trend Over Time\n",
        "# Convert Month_Year to datetime format\n",
        "data['Month_Year'] = pd.to_datetime(data['Month_Year'], format='%b %Y')\n",
        "\n",
        "# Group by Month_Year and sum VALUE\n",
        "sales_trend = data.groupby(data['Month_Year'].dt.to_period('M'))['VALUE'].sum()\n",
        "\n",
        "# Sort the data (it will already be sorted by period)\n",
        "sales_trend = sales_trend.sort_index()\n",
        "\n",
        "# Reset index to display Month_Year in desired format (optional)\n",
        "sales_trend.index = sales_trend.index.strftime('%b %Y')\n",
        "\n",
        "print(sales_trend)\n"
      ],
      "metadata": {
        "colab": {
          "base_uri": "https://localhost:8080/"
        },
        "id": "PkFn3Xd0uNY9",
        "outputId": "7c7869a8-6ec3-404a-c4a7-afc4da7811af"
      },
      "execution_count": null,
      "outputs": [
        {
          "output_type": "stream",
          "name": "stdout",
          "text": [
            "Month_Year\n",
            "Jan 2024    1.856262e+08\n",
            "Feb 2024    1.265797e+08\n",
            "Mar 2024    1.160007e+08\n",
            "Apr 2024    1.221108e+08\n",
            "May 2024    1.687815e+08\n",
            "Jun 2024    1.351402e+08\n",
            "Jul 2024    1.710426e+08\n",
            "Aug 2024    1.466219e+08\n",
            "Sep 2024    1.377915e+08\n",
            "Oct 2024    1.838406e+08\n",
            "Nov 2024    1.659331e+08\n",
            "Dec 2024    1.095572e+08\n",
            "Name: VALUE, dtype: float64\n"
          ]
        }
      ]
    },
    {
      "cell_type": "code",
      "source": [
        "# Plotting VALUE over time\n",
        "plt.figure(figsize=(12, 6))\n",
        "\n",
        "# Plot VALUE\n",
        "plt.plot(sales_trend.index, sales_trend, label='Value', color='blue', marker='o')\n",
        "#labels\n",
        "plt.xlabel('Month Year')\n",
        "plt.ylabel('Total Value')\n",
        "plt.title('Sales Trend Over Time')"
      ],
      "metadata": {
        "colab": {
          "base_uri": "https://localhost:8080/",
          "height": 581
        },
        "id": "mIEKCGi8vW67",
        "outputId": "11be1cf1-a65c-4370-a10f-a1244527c1ab"
      },
      "execution_count": null,
      "outputs": [
        {
          "output_type": "execute_result",
          "data": {
            "text/plain": [
              "Text(0.5, 1.0, 'Sales Trend Over Time')"
            ]
          },
          "metadata": {},
          "execution_count": 38
        },
        {
          "output_type": "display_data",
          "data": {
            "text/plain": [
              "<Figure size 1200x600 with 1 Axes>"
            ],
            "image/png": "[encoded data removed]"
          },
          "metadata": {}
        }
      ]
    },
    {
      "cell_type": "markdown",
      "source": [
        "### Sales Trends (Quantity) Over Time"
      ],
      "metadata": {
        "id": "6z9HWUPtaAcR"
      }
    },
    {
      "cell_type": "code",
      "source": [
        "#Sales Trend and sort by Month_Year\n",
        "# Convert Month_Year to datetime format\n",
        "data['Month_Year'] = pd.to_datetime(data['Month_Year'], format='%b %Y')\n",
        "\n",
        "# Group by Month_Year and sum QUANTITY\n",
        "qty_trend = data.groupby(data['Month_Year'].dt.to_period('M'))['QUANTITY'].sum()\n",
        "\n",
        "# Sort the data (it will already be sorted by period)\n",
        "qty_trend = qty_trend.sort_index()\n",
        "\n",
        "# Reset index to display Month_Year in desired format (optional)\n",
        "qty_trend.index = qty_trend.index.strftime('%b %Y')\n",
        "\n",
        "print(qty_trend)\n"
      ],
      "metadata": {
        "colab": {
          "base_uri": "https://localhost:8080/"
        },
        "id": "H6amLy0NriyX",
        "outputId": "889f7e2a-718d-4576-a30b-71aa960dd4f2"
      },
      "execution_count": null,
      "outputs": [
        {
          "output_type": "stream",
          "name": "stdout",
          "text": [
            "Month_Year\n",
            "Jan 2024    67526\n",
            "Feb 2024    44063\n",
            "Mar 2024    45381\n",
            "Apr 2024    50554\n",
            "May 2024    69551\n",
            "Jun 2024    60717\n",
            "Jul 2024    74691\n",
            "Aug 2024    68859\n",
            "Sep 2024    66747\n",
            "Oct 2024    84739\n",
            "Nov 2024    75361\n",
            "Dec 2024    57629\n",
            "Name: QUANTITY, dtype: int64\n"
          ]
        }
      ]
    },
    {
      "cell_type": "code",
      "source": [
        "# Plot sales trend for  QUANTITY\n",
        "plt.figure(figsize=(12, 6))\n",
        "\n",
        "# Plot QUANTITY\n",
        "plt.plot(qty_trend.index, qty_trend, label='Quantity', color='red', marker='o')\n",
        "#labels\n",
        "plt.xlabel('Month Year')\n",
        "plt.ylabel('Total Quantity')\n",
        "plt.title('Sales Trend Over Time')"
      ],
      "metadata": {
        "colab": {
          "base_uri": "https://localhost:8080/",
          "height": 581
        },
        "id": "m5VW7PCLwrP9",
        "outputId": "45b50f68-b9cc-4faa-bfad-3454a6a87ebb"
      },
      "execution_count": null,
      "outputs": [
        {
          "output_type": "execute_result",
          "data": {
            "text/plain": [
              "Text(0.5, 1.0, 'Sales Trend Over Time')"
            ]
          },
          "metadata": {},
          "execution_count": 40
        },
        {
          "output_type": "display_data",
          "data": {
            "text/plain": [
              "<Figure size 1200x600 with 1 Axes>"
            ],
            "image/png": "[encoded data removed]"
          },
          "metadata": {}
        }
      ]
    },
    {
      "cell_type": "markdown",
      "source": [
        "## Performance Analysis"
      ],
      "metadata": {
        "id": "4UhLcwhVxVHB"
      }
    },
    {
      "cell_type": "markdown",
      "source": [
        "### Top 5 most  purchased products based on Quantity"
      ],
      "metadata": {
        "id": "Cv3Aauq4bHFu"
      }
    },
    {
      "cell_type": "code",
      "source": [
        "# Top 5 most  purchased products based on Quantity\n",
        "top_5_products_qty = data.groupby('ANONYMIZED PRODUCT')['QUANTITY'].sum().nlargest(5)\n",
        "top_5_products_qty.head()"
      ],
      "metadata": {
        "colab": {
          "base_uri": "https://localhost:8080/",
          "height": 273
        },
        "id": "eR-HOjCzxpFx",
        "outputId": "f928dae0-0649-4dfd-91b0-9ea479fe9e62"
      },
      "execution_count": null,
      "outputs": [
        {
          "output_type": "execute_result",
          "data": {
            "text/plain": [
              "ANONYMIZED PRODUCT\n",
              "Product-66e0    46957\n",
              "Product-e805    42602\n",
              "Product-8f75    37566\n",
              "Product-29ee    35940\n",
              "Product-4156    28487\n",
              "Name: QUANTITY, dtype: int64"
            ],
            "text/html": [
              "<div>\n",
              "<style scoped>\n",
              "    .dataframe tbody tr th:only-of-type {\n",
              "        vertical-align: middle;\n",
              "    }\n",
              "\n",
              "    .dataframe tbody tr th {\n",
              "        vertical-align: top;\n",
              "    }\n",
              "\n",
              "    .dataframe thead th {\n",
              "        text-align: right;\n",
              "    }\n",
              "</style>\n",
              "<table border=\"1\" class=\"dataframe\">\n",
              "  <thead>\n",
              "    <tr style=\"text-align: right;\">\n",
              "      <th></th>\n",
              "      <th>QUANTITY</th>\n",
              "    </tr>\n",
              "    <tr>\n",
              "      <th>ANONYMIZED PRODUCT</th>\n",
              "      <th></th>\n",
              "    </tr>\n",
              "  </thead>\n",
              "  <tbody>\n",
              "    <tr>\n",
              "      <th>Product-66e0</th>\n",
              "      <td>46957</td>\n",
              "    </tr>\n",
              "    <tr>\n",
              "      <th>Product-e805</th>\n",
              "      <td>42602</td>\n",
              "    </tr>\n",
              "    <tr>\n",
              "      <th>Product-8f75</th>\n",
              "      <td>37566</td>\n",
              "    </tr>\n",
              "    <tr>\n",
              "      <th>Product-29ee</th>\n",
              "      <td>35940</td>\n",
              "    </tr>\n",
              "    <tr>\n",
              "      <th>Product-4156</th>\n",
              "      <td>28487</td>\n",
              "    </tr>\n",
              "  </tbody>\n",
              "</table>\n",
              "</div><br><label><b>dtype:</b> int64</label>"
            ]
          },
          "metadata": {},
          "execution_count": 41
        }
      ]
    },
    {
      "cell_type": "markdown",
      "source": [
        "### Top 5 most  purchased products based on Value"
      ],
      "metadata": {
        "id": "jpdFZyuwbNVb"
      }
    },
    {
      "cell_type": "code",
      "source": [
        "# Top 5 most  purchased products based on Value\n",
        "top_5_products_value = data.groupby('ANONYMIZED PRODUCT')['VALUE'].sum().nlargest(5)\n",
        "top_5_products_value.head()"
      ],
      "metadata": {
        "colab": {
          "base_uri": "https://localhost:8080/",
          "height": 273
        },
        "id": "YqVty6eDykfA",
        "outputId": "a3fcaa00-9d85-437c-ecb2-95b0a1f14234"
      },
      "execution_count": null,
      "outputs": [
        {
          "output_type": "execute_result",
          "data": {
            "text/plain": [
              "ANONYMIZED PRODUCT\n",
              "Product-e805    262787281.0\n",
              "Product-8f75    158797460.0\n",
              "Product-66e0     70704225.0\n",
              "Product-29ee     68248274.0\n",
              "Product-4156     56956007.0\n",
              "Name: VALUE, dtype: float64"
            ],
            "text/html": [
              "<div>\n",
              "<style scoped>\n",
              "    .dataframe tbody tr th:only-of-type {\n",
              "        vertical-align: middle;\n",
              "    }\n",
              "\n",
              "    .dataframe tbody tr th {\n",
              "        vertical-align: top;\n",
              "    }\n",
              "\n",
              "    .dataframe thead th {\n",
              "        text-align: right;\n",
              "    }\n",
              "</style>\n",
              "<table border=\"1\" class=\"dataframe\">\n",
              "  <thead>\n",
              "    <tr style=\"text-align: right;\">\n",
              "      <th></th>\n",
              "      <th>VALUE</th>\n",
              "    </tr>\n",
              "    <tr>\n",
              "      <th>ANONYMIZED PRODUCT</th>\n",
              "      <th></th>\n",
              "    </tr>\n",
              "  </thead>\n",
              "  <tbody>\n",
              "    <tr>\n",
              "      <th>Product-e805</th>\n",
              "      <td>262787281.0</td>\n",
              "    </tr>\n",
              "    <tr>\n",
              "      <th>Product-8f75</th>\n",
              "      <td>158797460.0</td>\n",
              "    </tr>\n",
              "    <tr>\n",
              "      <th>Product-66e0</th>\n",
              "      <td>70704225.0</td>\n",
              "    </tr>\n",
              "    <tr>\n",
              "      <th>Product-29ee</th>\n",
              "      <td>68248274.0</td>\n",
              "    </tr>\n",
              "    <tr>\n",
              "      <th>Product-4156</th>\n",
              "      <td>56956007.0</td>\n",
              "    </tr>\n",
              "  </tbody>\n",
              "</table>\n",
              "</div><br><label><b>dtype:</b> float64</label>"
            ]
          },
          "metadata": {},
          "execution_count": 42
        }
      ]
    },
    {
      "cell_type": "markdown",
      "source": [
        "We see that there is a mismatch between the top five most purchased products based on quantity and the top five most purchased products based on value. This can be explained by the products having different unit prices."
      ],
      "metadata": {
        "id": "dwFFW3t0b37N"
      }
    },
    {
      "cell_type": "markdown",
      "source": [
        "# 3. Advanced Analysis"
      ],
      "metadata": {
        "id": "UsyDg_KRy7Q8"
      }
    },
    {
      "cell_type": "markdown",
      "source": [
        "## Customer Segmentation"
      ],
      "metadata": {
        "id": "J17nMXLWzQZt"
      }
    },
    {
      "cell_type": "markdown",
      "source": [
        "###Segmentation Analysis of Businesses"
      ],
      "metadata": {
        "id": "ZFeQaG8suiBl"
      }
    },
    {
      "cell_type": "code",
      "source": [
        "#Checking number of unique businesses\n",
        "data['ANONYMIZED BUSINESS'].nunique()"
      ],
      "metadata": {
        "colab": {
          "base_uri": "https://localhost:8080/"
        },
        "id": "FKrfiW4OfPFE",
        "outputId": "1ac3d4a4-f2e1-4ec8-dc83-c6b0afd35a9d"
      },
      "execution_count": null,
      "outputs": [
        {
          "output_type": "execute_result",
          "data": {
            "text/plain": [
              "4800"
            ]
          },
          "metadata": {},
          "execution_count": 43
        }
      ]
    },
    {
      "cell_type": "code",
      "source": [
        "#Segmentation Analysis of Anonymized Business based on QUANTITY, VALUE, FREQUENCY OF ANONYMIZED BUSINESS\n",
        "segmentation_data = data.groupby('ANONYMIZED BUSINESS').agg({\n",
        "    'QUANTITY': 'sum',\n",
        "    'VALUE': 'sum',\n",
        "    'ANONYMIZED PRODUCT': 'count'\n",
        "}).reset_index()\n",
        "#rename columns\n",
        "segmentation_data.rename(columns={'QUANTITY': 'Total Quantity', 'VALUE': 'Total Value','ANONYMIZED PRODUCT': 'Freq of Transactions'}, inplace=True)\n",
        "print(segmentation_data)\n"
      ],
      "metadata": {
        "colab": {
          "base_uri": "https://localhost:8080/"
        },
        "id": "zxBecBqXzBDg",
        "outputId": "5a77436e-0b68-47c7-b0b7-2d2bfc9a8224"
      },
      "execution_count": null,
      "outputs": [
        {
          "output_type": "stream",
          "name": "stdout",
          "text": [
            "     ANONYMIZED BUSINESS  Total Quantity  Total Value  Freq of Transactions\n",
            "0          Business-0000               8      10445.0                     8\n",
            "1          Business-0005               1       2645.0                     1\n",
            "2          Business-0029              26      77340.0                     6\n",
            "3          Business-003d              98     221761.0                    31\n",
            "4          Business-0072             127     225056.0                   101\n",
            "...                  ...             ...          ...                   ...\n",
            "4795       Business-ffa9               3       6740.0                     3\n",
            "4796       Business-ffae               6      10530.0                     5\n",
            "4797       Business-ffb1             266     438115.0                   105\n",
            "4798       Business-ffd2              37      67723.0                    22\n",
            "4799       Business-ffff             110     110285.0                   107\n",
            "\n",
            "[4800 rows x 4 columns]\n"
          ]
        }
      ]
    },
    {
      "cell_type": "markdown",
      "source": [
        "We see that the total quanity is not necessarily equal to the frequency of transactions. The reason is that a business is not limited to buying only one unit of a product, that is, for every transaction, the quantity is greater than equal to one."
      ],
      "metadata": {
        "id": "FKQAjhVSdaVy"
      }
    },
    {
      "cell_type": "markdown",
      "source": [
        "### Classifying the Businesses into Three Groups\n",
        "\n",
        "Value classified on the following basis:\n",
        "1. High Value = above 1,000,000 (Total Value)\n",
        "2. Medium Value = 100,000 -1,000,000 (Total Value)\n",
        "3. Low Value = 0-99,999 (Total Value)"
      ],
      "metadata": {
        "id": "_AZT9fx_5XvF"
      }
    },
    {
      "cell_type": "code",
      "source": [
        "#Classify businesses into 3 groups\n",
        "segmentation_data['Segment'] = [\n",
        "    'High Value' if x > 1000000 else ('Medium Value' if x > 100000 else 'Low Value') for x in segmentation_data['Total Value']\n",
        "]\n",
        "print(segmentation_data)"
      ],
      "metadata": {
        "colab": {
          "base_uri": "https://localhost:8080/"
        },
        "id": "wB1zgiPE8WYr",
        "outputId": "1817f09a-f170-456e-9e09-916b5c9ee3e8"
      },
      "execution_count": null,
      "outputs": [
        {
          "output_type": "stream",
          "name": "stdout",
          "text": [
            "     ANONYMIZED BUSINESS  Total Quantity  Total Value  Freq of Transactions  \\\n",
            "0          Business-0000               8      10445.0                     8   \n",
            "1          Business-0005               1       2645.0                     1   \n",
            "2          Business-0029              26      77340.0                     6   \n",
            "3          Business-003d              98     221761.0                    31   \n",
            "4          Business-0072             127     225056.0                   101   \n",
            "...                  ...             ...          ...                   ...   \n",
            "4795       Business-ffa9               3       6740.0                     3   \n",
            "4796       Business-ffae               6      10530.0                     5   \n",
            "4797       Business-ffb1             266     438115.0                   105   \n",
            "4798       Business-ffd2              37      67723.0                    22   \n",
            "4799       Business-ffff             110     110285.0                   107   \n",
            "\n",
            "           Segment  \n",
            "0        Low Value  \n",
            "1        Low Value  \n",
            "2        Low Value  \n",
            "3     Medium Value  \n",
            "4     Medium Value  \n",
            "...            ...  \n",
            "4795     Low Value  \n",
            "4796     Low Value  \n",
            "4797  Medium Value  \n",
            "4798     Low Value  \n",
            "4799  Medium Value  \n",
            "\n",
            "[4800 rows x 5 columns]\n"
          ]
        }
      ]
    },
    {
      "cell_type": "code",
      "source": [
        "#export this table\n",
        "segmentation_data.to_csv('segmentation_data.csv', index=False)"
      ],
      "metadata": {
        "id": "sSfWjYzxoKPf"
      },
      "execution_count": null,
      "outputs": []
    },
    {
      "cell_type": "code",
      "source": [
        "#Counting number of High Value, Medium Value, and Low Value businesses\n",
        "segmentation_data['Segment'].value_counts()"
      ],
      "metadata": {
        "colab": {
          "base_uri": "https://localhost:8080/",
          "height": 210
        },
        "id": "wZIVU3BB9BNL",
        "outputId": "976bcfdb-2fbe-4f8e-bdb8-542b2c3dbedf"
      },
      "execution_count": null,
      "outputs": [
        {
          "output_type": "execute_result",
          "data": {
            "text/plain": [
              "Segment\n",
              "Low Value       3021\n",
              "Medium Value    1359\n",
              "High Value       420\n",
              "Name: count, dtype: int64"
            ],
            "text/html": [
              "<div>\n",
              "<style scoped>\n",
              "    .dataframe tbody tr th:only-of-type {\n",
              "        vertical-align: middle;\n",
              "    }\n",
              "\n",
              "    .dataframe tbody tr th {\n",
              "        vertical-align: top;\n",
              "    }\n",
              "\n",
              "    .dataframe thead th {\n",
              "        text-align: right;\n",
              "    }\n",
              "</style>\n",
              "<table border=\"1\" class=\"dataframe\">\n",
              "  <thead>\n",
              "    <tr style=\"text-align: right;\">\n",
              "      <th></th>\n",
              "      <th>count</th>\n",
              "    </tr>\n",
              "    <tr>\n",
              "      <th>Segment</th>\n",
              "      <th></th>\n",
              "    </tr>\n",
              "  </thead>\n",
              "  <tbody>\n",
              "    <tr>\n",
              "      <th>Low Value</th>\n",
              "      <td>3021</td>\n",
              "    </tr>\n",
              "    <tr>\n",
              "      <th>Medium Value</th>\n",
              "      <td>1359</td>\n",
              "    </tr>\n",
              "    <tr>\n",
              "      <th>High Value</th>\n",
              "      <td>420</td>\n",
              "    </tr>\n",
              "  </tbody>\n",
              "</table>\n",
              "</div><br><label><b>dtype:</b> int64</label>"
            ]
          },
          "metadata": {},
          "execution_count": 47
        }
      ]
    },
    {
      "cell_type": "markdown",
      "source": [
        "### Recommendations"
      ],
      "metadata": {
        "id": "3qyYbRBN-GH2"
      }
    },
    {
      "cell_type": "markdown",
      "source": [
        "1. High Value Businesses\n",
        "* Dedicated Account Management: Assign a dedicated account manager to offer personalized attention, address their needs promptly, and anticipate future requirements.\n",
        "* Regular Check-ins: Maintain regular communication through monthly or quarterly business reviews.\n",
        "2. Medium Value\n",
        "* Upselling and Cross-selling: Identify opportunities for upselling or cross-selling based on their past behavior or industry trends.\n",
        "* Loyalty Programs: Introduce loyalty programs to incentivize repeat business, such as discounts, credits, or other rewards.\n",
        "3. Low Value\n",
        "* Incentivize Growth: Offer discounts or promotions to encourage larger purchases or greater frequency of orders.\n",
        "* Referral Programs: Encourage these businesses to refer new clients or customers, offering them incentives like discounts or bonuses for successful referrals."
      ],
      "metadata": {
        "id": "AGQm27FVABOi"
      }
    },
    {
      "cell_type": "markdown",
      "source": [
        "## Forecasting with ARIMA"
      ],
      "metadata": {
        "id": "yE3t8iol4PN2"
      }
    },
    {
      "cell_type": "code",
      "source": [
        "#Group value by Month_Year\n",
        "monthly_data = data.groupby('Month_Year')['VALUE'].sum().reset_index()\n",
        "monthly_data.head(12)"
      ],
      "metadata": {
        "colab": {
          "base_uri": "https://localhost:8080/",
          "height": 426
        },
        "id": "byUDQ_eOxJCT",
        "outputId": "f091af29-c18f-45bd-b81e-97dc7e3cbd19"
      },
      "execution_count": null,
      "outputs": [
        {
          "output_type": "execute_result",
          "data": {
            "text/plain": [
              "   Month_Year         VALUE\n",
              "0  2024-01-01  1.856262e+08\n",
              "1  2024-02-01  1.265797e+08\n",
              "2  2024-03-01  1.160007e+08\n",
              "3  2024-04-01  1.221108e+08\n",
              "4  2024-05-01  1.687815e+08\n",
              "5  2024-06-01  1.351402e+08\n",
              "6  2024-07-01  1.710426e+08\n",
              "7  2024-08-01  1.466219e+08\n",
              "8  2024-09-01  1.377915e+08\n",
              "9  2024-10-01  1.838406e+08\n",
              "10 2024-11-01  1.659331e+08\n",
              "11 2024-12-01  1.095572e+08"
            ],
            "text/html": [
              "\n",
              "  <div id=\"df-e12f4bb0-b286-4729-bcec-998c76435260\" class=\"colab-df-container\">\n",
              "    <div>\n",
              "<style scoped>\n",
              "    .dataframe tbody tr th:only-of-type {\n",
              "        vertical-align: middle;\n",
              "    }\n",
              "\n",
              "    .dataframe tbody tr th {\n",
              "        vertical-align: top;\n",
              "    }\n",
              "\n",
              "    .dataframe thead th {\n",
              "        text-align: right;\n",
              "    }\n",
              "</style>\n",
              "<table border=\"1\" class=\"dataframe\">\n",
              "  <thead>\n",
              "    <tr style=\"text-align: right;\">\n",
              "      <th></th>\n",
              "      <th>Month_Year</th>\n",
              "      <th>VALUE</th>\n",
              "    </tr>\n",
              "  </thead>\n",
              "  <tbody>\n",
              "    <tr>\n",
              "      <th>0</th>\n",
              "      <td>2024-01-01</td>\n",
              "      <td>1.856262e+08</td>\n",
              "    </tr>\n",
              "    <tr>\n",
              "      <th>1</th>\n",
              "      <td>2024-02-01</td>\n",
              "      <td>1.265797e+08</td>\n",
              "    </tr>\n",
              "    <tr>\n",
              "      <th>2</th>\n",
              "      <td>2024-03-01</td>\n",
              "      <td>1.160007e+08</td>\n",
              "    </tr>\n",
              "    <tr>\n",
              "      <th>3</th>\n",
              "      <td>2024-04-01</td>\n",
              "      <td>1.221108e+08</td>\n",
              "    </tr>\n",
              "    <tr>\n",
              "      <th>4</th>\n",
              "      <td>2024-05-01</td>\n",
              "      <td>1.687815e+08</td>\n",
              "    </tr>\n",
              "    <tr>\n",
              "      <th>5</th>\n",
              "      <td>2024-06-01</td>\n",
              "      <td>1.351402e+08</td>\n",
              "    </tr>\n",
              "    <tr>\n",
              "      <th>6</th>\n",
              "      <td>2024-07-01</td>\n",
              "      <td>1.710426e+08</td>\n",
              "    </tr>\n",
              "    <tr>\n",
              "      <th>7</th>\n",
              "      <td>2024-08-01</td>\n",
              "      <td>1.466219e+08</td>\n",
              "    </tr>\n",
              "    <tr>\n",
              "      <th>8</th>\n",
              "      <td>2024-09-01</td>\n",
              "      <td>1.377915e+08</td>\n",
              "    </tr>\n",
              "    <tr>\n",
              "      <th>9</th>\n",
              "      <td>2024-10-01</td>\n",
              "      <td>1.838406e+08</td>\n",
              "    </tr>\n",
              "    <tr>\n",
              "      <th>10</th>\n",
              "      <td>2024-11-01</td>\n",
              "      <td>1.659331e+08</td>\n",
              "    </tr>\n",
              "    <tr>\n",
              "      <th>11</th>\n",
              "      <td>2024-12-01</td>\n",
              "      <td>1.095572e+08</td>\n",
              "    </tr>\n",
              "  </tbody>\n",
              "</table>\n",
              "</div>\n",
              "    <div class=\"colab-df-buttons\">\n",
              "\n",
              "  <div class=\"colab-df-container\">\n",
              "    <button class=\"colab-df-convert\" onclick=\"convertToInteractive('df-e12f4bb0-b286-4729-bcec-998c76435260')\"\n",
              "            title=\"Convert this dataframe to an interactive table.\"\n",
              "            style=\"display:none;\">\n",
              "\n",
              "  <svg xmlns=\"http://www.w3.org/2000/svg\" height=\"24px\" viewBox=\"0 -960 960 960\">\n",
              "    <path d=\"M120-120v-720h720v720H120Zm60-500h600v-160H180v160Zm220 220h160v-160H400v160Zm0 220h160v-160H400v160ZM180-400h160v-160H180v160Zm440 0h160v-160H620v160ZM180-180h160v-160H180v160Zm440 0h160v-160H620v160Z\"/>\n",
              "  </svg>\n",
              "    </button>\n",
              "\n",
              "  <style>\n",
              "    .colab-df-container {\n",
              "      display:flex;\n",
              "      gap: 12px;\n",
              "    }\n",
              "\n",
              "    .colab-df-convert {\n",
              "      background-color: #E8F0FE;\n",
              "      border: none;\n",
              "      border-radius: 50%;\n",
              "      cursor: pointer;\n",
              "      display: none;\n",
              "      fill: #1967D2;\n",
              "      height: 32px;\n",
              "      padding: 0 0 0 0;\n",
              "      width: 32px;\n",
              "    }\n",
              "\n",
              "    .colab-df-convert:hover {\n",
              "      background-color: #E2EBFA;\n",
              "      box-shadow: 0px 1px 2px rgba(60, 64, 67, 0.3), 0px 1px 3px 1px rgba(60, 64, 67, 0.15);\n",
              "      fill: #174EA6;\n",
              "    }\n",
              "\n",
              "    .colab-df-buttons div {\n",
              "      margin-bottom: 4px;\n",
              "    }\n",
              "\n",
              "    [theme=dark] .colab-df-convert {\n",
              "      background-color: #3B4455;\n",
              "      fill: #D2E3FC;\n",
              "    }\n",
              "\n",
              "    [theme=dark] .colab-df-convert:hover {\n",
              "      background-color: #434B5C;\n",
              "      box-shadow: 0px 1px 3px 1px rgba(0, 0, 0, 0.15);\n",
              "      filter: drop-shadow(0px 1px 2px rgba(0, 0, 0, 0.3));\n",
              "      fill: #FFFFFF;\n",
              "    }\n",
              "  </style>\n",
              "\n",
              "    <script>\n",
              "      const buttonEl =\n",
              "        document.querySelector('#df-e12f4bb0-b286-4729-bcec-998c76435260 button.colab-df-convert');\n",
              "      buttonEl.style.display =\n",
              "        google.colab.kernel.accessAllowed ? 'block' : 'none';\n",
              "\n",
              "      async function convertToInteractive(key) {\n",
              "        const element = document.querySelector('#df-e12f4bb0-b286-4729-bcec-998c76435260');\n",
              "        const dataTable =\n",
              "          await google.colab.kernel.invokeFunction('convertToInteractive',\n",
              "                                                    [key], {});\n",
              "        if (!dataTable) return;\n",
              "\n",
              "        const docLinkHtml = 'Like what you see? Visit the ' +\n",
              "          '<a target=\"_blank\" href=https://colab.research.google.com/notebooks/data_table.ipynb>data table notebook</a>'\n",
              "          + ' to learn more about interactive tables.';\n",
              "        element.innerHTML = '';\n",
              "        dataTable['output_type'] = 'display_data';\n",
              "        await google.colab.output.renderOutput(dataTable, element);\n",
              "        const docLink = document.createElement('div');\n",
              "        docLink.innerHTML = docLinkHtml;\n",
              "        element.appendChild(docLink);\n",
              "      }\n",
              "    </script>\n",
              "  </div>\n",
              "\n",
              "\n",
              "<div id=\"df-ddb22949-9350-41bb-9929-1f8d9bbd887b\">\n",
              "  <button class=\"colab-df-quickchart\" onclick=\"quickchart('df-ddb22949-9350-41bb-9929-1f8d9bbd887b')\"\n",
              "            title=\"Suggest charts\"\n",
              "            style=\"display:none;\">\n",
              "\n",
              "<svg xmlns=\"http://www.w3.org/2000/svg\" height=\"24px\"viewBox=\"0 0 24 24\"\n",
              "     width=\"24px\">\n",
              "    <g>\n",
              "        <path d=\"M19 3H5c-1.1 0-2 .9-2 2v14c0 1.1.9 2 2 2h14c1.1 0 2-.9 2-2V5c0-1.1-.9-2-2-2zM9 17H7v-7h2v7zm4 0h-2V7h2v10zm4 0h-2v-4h2v4z\"/>\n",
              "    </g>\n",
              "</svg>\n",
              "  </button>\n",
              "\n",
              "<style>\n",
              "  .colab-df-quickchart {\n",
              "      --bg-color: #E8F0FE;\n",
              "      --fill-color: #1967D2;\n",
              "      --hover-bg-color: #E2EBFA;\n",
              "      --hover-fill-color: #174EA6;\n",
              "      --disabled-fill-color: #AAA;\n",
              "      --disabled-bg-color: #DDD;\n",
              "  }\n",
              "\n",
              "  [theme=dark] .colab-df-quickchart {\n",
              "      --bg-color: #3B4455;\n",
              "      --fill-color: #D2E3FC;\n",
              "      --hover-bg-color: #434B5C;\n",
              "      --hover-fill-color: #FFFFFF;\n",
              "      --disabled-bg-color: #3B4455;\n",
              "      --disabled-fill-color: #666;\n",
              "  }\n",
              "\n",
              "  .colab-df-quickchart {\n",
              "    background-color: var(--bg-color);\n",
              "    border: none;\n",
              "    border-radius: 50%;\n",
              "    cursor: pointer;\n",
              "    display: none;\n",
              "    fill: var(--fill-color);\n",
              "    height: 32px;\n",
              "    padding: 0;\n",
              "    width: 32px;\n",
              "  }\n",
              "\n",
              "  .colab-df-quickchart:hover {\n",
              "    background-color: var(--hover-bg-color);\n",
              "    box-shadow: 0 1px 2px rgba(60, 64, 67, 0.3), 0 1px 3px 1px rgba(60, 64, 67, 0.15);\n",
              "    fill: var(--button-hover-fill-color);\n",
              "  }\n",
              "\n",
              "  .colab-df-quickchart-complete:disabled,\n",
              "  .colab-df-quickchart-complete:disabled:hover {\n",
              "    background-color: var(--disabled-bg-color);\n",
              "    fill: var(--disabled-fill-color);\n",
              "    box-shadow: none;\n",
              "  }\n",
              "\n",
              "  .colab-df-spinner {\n",
              "    border: 2px solid var(--fill-color);\n",
              "    border-color: transparent;\n",
              "    border-bottom-color: var(--fill-color);\n",
              "    animation:\n",
              "      spin 1s steps(1) infinite;\n",
              "  }\n",
              "\n",
              "  @keyframes spin {\n",
              "    0% {\n",
              "      border-color: transparent;\n",
              "      border-bottom-color: var(--fill-color);\n",
              "      border-left-color: var(--fill-color);\n",
              "    }\n",
              "    20% {\n",
              "      border-color: transparent;\n",
              "      border-left-color: var(--fill-color);\n",
              "      border-top-color: var(--fill-color);\n",
              "    }\n",
              "    30% {\n",
              "      border-color: transparent;\n",
              "      border-left-color: var(--fill-color);\n",
              "      border-top-color: var(--fill-color);\n",
              "      border-right-color: var(--fill-color);\n",
              "    }\n",
              "    40% {\n",
              "      border-color: transparent;\n",
              "      border-right-color: var(--fill-color);\n",
              "      border-top-color: var(--fill-color);\n",
              "    }\n",
              "    60% {\n",
              "      border-color: transparent;\n",
              "      border-right-color: var(--fill-color);\n",
              "    }\n",
              "    80% {\n",
              "      border-color: transparent;\n",
              "      border-right-color: var(--fill-color);\n",
              "      border-bottom-color: var(--fill-color);\n",
              "    }\n",
              "    90% {\n",
              "      border-color: transparent;\n",
              "      border-bottom-color: var(--fill-color);\n",
              "    }\n",
              "  }\n",
              "</style>\n",
              "\n",
              "  <script>\n",
              "    async function quickchart(key) {\n",
              "      const quickchartButtonEl =\n",
              "        document.querySelector('#' + key + ' button');\n",
              "      quickchartButtonEl.disabled = true;  // To prevent multiple clicks.\n",
              "      quickchartButtonEl.classList.add('colab-df-spinner');\n",
              "      try {\n",
              "        const charts = await google.colab.kernel.invokeFunction(\n",
              "            'suggestCharts', [key], {});\n",
              "      } catch (error) {\n",
              "        console.error('Error during call to suggestCharts:', error);\n",
              "      }\n",
              "      quickchartButtonEl.classList.remove('colab-df-spinner');\n",
              "      quickchartButtonEl.classList.add('colab-df-quickchart-complete');\n",
              "    }\n",
              "    (() => {\n",
              "      let quickchartButtonEl =\n",
              "        document.querySelector('#df-ddb22949-9350-41bb-9929-1f8d9bbd887b button');\n",
              "      quickchartButtonEl.style.display =\n",
              "        google.colab.kernel.accessAllowed ? 'block' : 'none';\n",
              "    })();\n",
              "  </script>\n",
              "</div>\n",
              "\n",
              "    </div>\n",
              "  </div>\n"
            ],
            "application/vnd.google.colaboratory.intrinsic+json": {
              "type": "dataframe",
              "variable_name": "monthly_data",
              "summary": "{\n  \"name\": \"monthly_data\",\n  \"rows\": 12,\n  \"fields\": [\n    {\n      \"column\": \"Month_Year\",\n      \"properties\": {\n        \"dtype\": \"date\",\n        \"min\": \"2024-01-01 00:00:00\",\n        \"max\": \"2024-12-01 00:00:00\",\n        \"num_unique_values\": 12,\n        \"samples\": [\n          \"2024-11-01 00:00:00\",\n          \"2024-10-01 00:00:00\",\n          \"2024-01-01 00:00:00\"\n        ],\n        \"semantic_type\": \"\",\n        \"description\": \"\"\n      }\n    },\n    {\n      \"column\": \"VALUE\",\n      \"properties\": {\n        \"dtype\": \"number\",\n        \"std\": 26770109.637975752,\n        \"min\": 109557214.0,\n        \"max\": 185626186.0,\n        \"num_unique_values\": 12,\n        \"samples\": [\n          165933104.0,\n          183840551.0,\n          185626186.0\n        ],\n        \"semantic_type\": \"\",\n        \"description\": \"\"\n      }\n    }\n  ]\n}"
            }
          },
          "metadata": {},
          "execution_count": 48
        }
      ]
    },
    {
      "cell_type": "code",
      "source": [
        "#Fitting an ARIMA model\n",
        "#Importing the ARIMA library\n",
        "from statsmodels.tsa.arima.model import ARIMA\n",
        "\n",
        "# Fit ARIMA model on VALUE\n",
        "model = ARIMA(monthly_data['VALUE'], order=(2, 0, 0))\n",
        "model_fit = model.fit()"
      ],
      "metadata": {
        "id": "1YVHsjkX4U3h"
      },
      "execution_count": null,
      "outputs": []
    },
    {
      "cell_type": "code",
      "source": [
        "# Forecast the next 3 months\n",
        "forecast = model_fit.forecast(steps=3)\n",
        "print(\"Forecast for the next 3 months:\")\n",
        "print(forecast)"
      ],
      "metadata": {
        "colab": {
          "base_uri": "https://localhost:8080/"
        },
        "id": "KPlpwTN6u12w",
        "outputId": "c16a43cd-9137-4ee8-b754-7c623797690b"
      },
      "execution_count": null,
      "outputs": [
        {
          "output_type": "stream",
          "name": "stdout",
          "text": [
            "Forecast for the next 3 months:\n",
            "12    1.436849e+08\n",
            "13    1.635556e+08\n",
            "14    1.472815e+08\n",
            "Name: predicted_mean, dtype: float64\n"
          ]
        }
      ]
    },
    {
      "cell_type": "code",
      "source": [
        "# Plotting VALUE in 2024 and forecasted 3 months\n",
        "plt.figure(figsize=(12, 6))\n",
        "#plotting monthly_data\n",
        "plt.plot(monthly_data['Month_Year'], monthly_data['VALUE'], label='Actual', color='blue')\n",
        "# Plot forecasted VALUE\n",
        "forecast_index = pd.date_range(start='2025-01-31', periods=3, freq='M')\n",
        "plt.plot(forecast_index, forecast, marker='o', color='red', label='Forecast')\n",
        "#labels\n",
        "plt.title('Monthly Sales Forecast')\n",
        "plt.xlabel('Date')\n",
        "plt.ylabel('Total Sales (Value)')\n",
        "plt.legend()\n",
        "plt.grid(True)\n",
        "plt.show()"
      ],
      "metadata": {
        "colab": {
          "base_uri": "https://localhost:8080/",
          "height": 599
        },
        "id": "G4eI6P151fHo",
        "outputId": "d095b782-44fe-4374-8c69-8c33b1d6fade"
      },
      "execution_count": null,
      "outputs": [
        {
          "output_type": "stream",
          "name": "stderr",
          "text": [
            "<ipython-input-51-b4e0c2d8d2f4>:6: FutureWarning: 'M' is deprecated and will be removed in a future version, please use 'ME' instead.\n",
            "  forecast_index = pd.date_range(start='2025-01-31', periods=3, freq='M')\n"
          ]
        },
        {
          "output_type": "display_data",
          "data": {
            "text/plain": [
              "<Figure size 1200x600 with 1 Axes>"
            ],
            "image/png": "[encoded data removed]"
          },
          "metadata": {}
        }
      ]
    },
    {
      "cell_type": "markdown",
      "source": [
        "##Correlation Analysis"
      ],
      "metadata": {
        "id": "gLuX2h7hELrT"
      }
    },
    {
      "cell_type": "code",
      "source": [
        "#plot Quantity and Value\n",
        "plot_data = data.groupby('ANONYMIZED PRODUCT').agg({'QUANTITY': 'sum', 'VALUE': 'sum'}).reset_index()\n",
        "plt.figure(figsize=(10, 6))\n",
        "plt.scatter(plot_data['QUANTITY'], plot_data['VALUE'], alpha=0.5)\n",
        "plt.title('Quantity vs Value')\n",
        "plt.xlabel('Quantity')\n",
        "plt.ylabel('Value')\n",
        "plt.show()"
      ],
      "metadata": {
        "colab": {
          "base_uri": "https://localhost:8080/",
          "height": 564
        },
        "id": "OqJ53SgcFBKf",
        "outputId": "c7c9cd58-cf75-4001-8abd-d7610bbd1b7c"
      },
      "execution_count": null,
      "outputs": [
        {
          "output_type": "display_data",
          "data": {
            "text/plain": [
              "<Figure size 1000x600 with 1 Axes>"
            ],
            "image/png": "[encoded data removed]"
          },
          "metadata": {}
        }
      ]
    },
    {
      "cell_type": "markdown",
      "source": [
        "Insights from the above visualization on Quantity vs Value\n",
        "1. Non-Linear Relationship: The relationship between Quantity and Value does not seem to be perfectly linear.\n",
        "2. Positive Correlation: There appears to be a positive correlation between Quantity and Value. As the Quantity increases, the Value generally tends to increase as well."
      ],
      "metadata": {
        "id": "7n6eeB3CH7vl"
      }
    },
    {
      "cell_type": "markdown",
      "source": [
        "##Anomaly Detection"
      ],
      "metadata": {
        "id": "rFK0MqQkIkdH"
      }
    },
    {
      "cell_type": "markdown",
      "source": [
        "###Anomaly Detection in Terms of Quantity"
      ],
      "metadata": {
        "id": "nVSTSKlgvDwA"
      }
    },
    {
      "cell_type": "markdown",
      "source": [
        "We can check quantity over time to see if there are any unusual spikes or drops in sales."
      ],
      "metadata": {
        "id": "a4psrOIiugPg"
      }
    },
    {
      "cell_type": "code",
      "source": [
        "# Plot sales trend for QUANTITY\n",
        "plt.figure(figsize=(12, 6))\n",
        "\n",
        "# Plot QUANTITY\n",
        "plt.plot(qty_trend.index, qty_trend, label='Quantity', color='red', marker='o')\n",
        "#labels\n",
        "plt.xlabel('Month Year')\n",
        "plt.ylabel('Total Quantity')\n",
        "plt.title('Sales Trend Over Time')"
      ],
      "metadata": {
        "colab": {
          "base_uri": "https://localhost:8080/",
          "height": 581
        },
        "id": "K6hSHaVhub2P",
        "outputId": "130bc80f-94c3-487a-9f14-f97e6b32bf07"
      },
      "execution_count": null,
      "outputs": [
        {
          "output_type": "execute_result",
          "data": {
            "text/plain": [
              "Text(0.5, 1.0, 'Sales Trend Over Time')"
            ]
          },
          "metadata": {},
          "execution_count": 56
        },
        {
          "output_type": "display_data",
          "data": {
            "text/plain": [
              "<Figure size 1200x600 with 1 Axes>"
            ],
            "image/png": "[encoded data removed]"
          },
          "metadata": {}
        }
      ]
    },
    {
      "cell_type": "markdown",
      "source": [
        "**Volatility**: Sales quantity shows significant fluctuations throughout the year, indicating inconsistent performance.\n",
        "\n",
        "**Key Peaks:** Notable sales peaks occurred in October (highest), followed by smaller peaks in May and July.  \n",
        "\n",
        "**Significant Drop:** A sharp decline in sales is evident from January to February.\n",
        "\n",
        "**Need for Context:** To pinpoint the exact causes, additional context is crucial.\n",
        "\n",
        "**Possible Drivers:** The fluctuations likely stem from a combination of:\n",
        "* seasonal trends.\n",
        "* external factors.\n",
        "* internal factors.\n",
        "* market dynamics."
      ],
      "metadata": {
        "id": "PLTVrtNUvZxC"
      }
    },
    {
      "cell_type": "markdown",
      "source": [
        "###Anomaly Detection in Terms of Value"
      ],
      "metadata": {
        "id": "jxn5vS2DvLQL"
      }
    },
    {
      "cell_type": "markdown",
      "source": [
        "We can check value over time to see if there are any unusual spikes or drops in sales."
      ],
      "metadata": {
        "id": "FyGJc0LivWWO"
      }
    },
    {
      "cell_type": "code",
      "source": [
        "# Plot sales trend for  VALUE\n",
        "plt.figure(figsize=(12, 6))\n",
        "\n",
        "# Plot VALUE\n",
        "plt.plot(sales_trend.index, sales_trend, label='Value', color='blue', marker='o')\n",
        "#labels\n",
        "plt.xlabel('Month Year')\n",
        "plt.ylabel('Total Value')\n",
        "plt.title('Sales Trend Over Time')"
      ],
      "metadata": {
        "colab": {
          "base_uri": "https://localhost:8080/",
          "height": 581
        },
        "id": "lu-JH_a5uRBa",
        "outputId": "95104a5e-40e5-49b3-de0f-6d73466d2b70"
      },
      "execution_count": null,
      "outputs": [
        {
          "output_type": "execute_result",
          "data": {
            "text/plain": [
              "Text(0.5, 1.0, 'Sales Trend Over Time')"
            ]
          },
          "metadata": {},
          "execution_count": 57
        },
        {
          "output_type": "display_data",
          "data": {
            "text/plain": [
              "<Figure size 1200x600 with 1 Axes>"
            ],
            "image/png": "[encoded data removed]"
          },
          "metadata": {}
        }
      ]
    },
    {
      "cell_type": "markdown",
      "source": [
        "**Volatility:** Total Value fluctuates significantly throughout the year, indicating inconsistent sales performance.\n",
        "\n",
        "**Key Peak:** A major peak occurs in October.\n",
        "\n",
        "**Moderate Peaks:** Smaller peaks are observed in May and July.\n",
        "\n",
        "**Dramatic Drop:** A sharp and significant decline in Total Value happens in December.\n",
        "\n",
        "**Need for Further Analysis:** Comparing with sales quantity data, gathering more context about the business and industry is needed for a more accurate understanding of these trends.\n",
        "\n",
        "**Possible Drivers:** The fluctuations likely stem from a combination of:\n",
        "* seasonal trends.\n",
        "* external factors.\n",
        "* internal factors.\n",
        "* market dynamics.\n",
        "\n"
      ],
      "metadata": {
        "id": "F6cO0L4xva7x"
      }
    },
    {
      "cell_type": "markdown",
      "source": [
        "# 4. Strategic Insights and Recommendations"
      ],
      "metadata": {
        "id": "1SwumA-rHt4k"
      }
    },
    {
      "cell_type": "markdown",
      "source": [
        "## Product Strategy"
      ],
      "metadata": {
        "id": "MVVJcA3SH8Zo"
      }
    },
    {
      "cell_type": "code",
      "source": [
        "#calculate Value grouped by Anonymized Category and sort by ascending\n",
        "value_by_category = data.groupby('ANONYMIZED CATEGORY')['VALUE'].sum().sort_values(ascending=True)\n",
        "print(value_by_category)\n"
      ],
      "metadata": {
        "colab": {
          "base_uri": "https://localhost:8080/"
        },
        "id": "QFCNyNjKH1ZK",
        "outputId": "903e9129-6f12-4d5f-f307-d1839a58f834"
      },
      "execution_count": null,
      "outputs": [
        {
          "output_type": "stream",
          "name": "stdout",
          "text": [
            "ANONYMIZED CATEGORY\n",
            "Category-117    1.550000e+03\n",
            "Category-86     3.320000e+03\n",
            "Category-118    7.560000e+03\n",
            "Category-114    8.600000e+03\n",
            "Category-124    1.006000e+04\n",
            "Category-90     1.575000e+04\n",
            "Category-81     7.206100e+04\n",
            "Category-89     1.368500e+05\n",
            "Category-125    2.970600e+05\n",
            "Category-116    4.227450e+05\n",
            "Category-115    4.253600e+05\n",
            "Category-102    4.644630e+05\n",
            "Category-123    7.307300e+05\n",
            "Category-79     1.184953e+06\n",
            "Category-113    1.254083e+06\n",
            "Category-109    1.263226e+06\n",
            "Category-104    1.557598e+06\n",
            "Category-99     1.589480e+06\n",
            "Category-74     1.927871e+06\n",
            "Category-96     2.249424e+06\n",
            "Category-98     2.519695e+06\n",
            "Category-97     2.628309e+06\n",
            "Category-105    2.690719e+06\n",
            "Category-122    3.500920e+06\n",
            "Category-82     3.930818e+06\n",
            "Category-83     4.039483e+06\n",
            "Category-107    4.172371e+06\n",
            "Category-111    4.387343e+06\n",
            "Category-108    5.101375e+06\n",
            "Category-110    5.483386e+06\n",
            "Category-106    5.932763e+06\n",
            "Category-84     6.798158e+06\n",
            "Category-95     7.466932e+06\n",
            "Category-78     9.792609e+06\n",
            "Category-92     1.047027e+07\n",
            "Category-94     1.675254e+07\n",
            "Category-121    2.232764e+07\n",
            "Category-85     3.376253e+07\n",
            "Category-101    3.561719e+07\n",
            "Category-91     4.415210e+07\n",
            "Category-77     7.674138e+07\n",
            "Category-119    1.034548e+08\n",
            "Category-100    1.349028e+08\n",
            "Category-120    3.191787e+08\n",
            "Category-76     3.449396e+08\n",
            "Category-75     5.446587e+08\n",
            "Name: VALUE, dtype: float64\n"
          ]
        }
      ]
    },
    {
      "cell_type": "markdown",
      "source": [
        "\n",
        "Category-117 has 1550.0 value, which is the lowest. Hence, it should be prioritized for marketing campaign.\n",
        "\n"
      ],
      "metadata": {
        "id": "OSaratrbIdtl"
      }
    },
    {
      "cell_type": "markdown",
      "source": [
        "## Customer Retention"
      ],
      "metadata": {
        "id": "hkKMkzxpIwD6"
      }
    },
    {
      "cell_type": "markdown",
      "source": [
        "## Operational Efficiency"
      ],
      "metadata": {
        "id": "i7iZ2Bbq1kgN"
      }
    },
    {
      "cell_type": "markdown",
      "source": [
        "*Referring to Anomaly Detection Section*\n",
        "\n",
        "**Suggested Improvements:**\n",
        "\n",
        "1. Optimized Inventory for Peak Season (October):\n",
        "\n",
        "**Strategic Stockpiling:** Gradually increase inventory levels of key products leading up to October to meet the anticipated surge in demand.\n",
        "\n",
        "**Supply Chain Collaboration:** Work closely with suppliers to ensure they can meet the increased order volumes in time.\n",
        "\n",
        "2. Inventory Reduction Strategy for Post-Peak (December):\n",
        "\n",
        "**Strategic Promotions**: strategic promotions in November will help clear out excess inventory before the sharp value drop.\n",
        "\n",
        "3. Addressing February Lows:\n",
        "\n",
        "**Targeted Promotions:** Develop targeted marketing campaigns or promotions for February to stimulate demand and mitigate the post-holiday slump.\n",
        "\n",
        "**Evaluate External Factors:** Analyze external factors to understand if the February dip is predictable. If so, adjust inventory and staffing levels accordingly.\n",
        "4. General Supply Chain Enhancements:\n",
        "\n",
        "**Supplier Relationship Management**: Strengthen relationships with key suppliers to improve communication, collaboration, and responsiveness to changes in demand.\n",
        "\n",
        "***Important Note:*** Above are just general suggestions. The most effective improvements will depend on the specific business context and products."
      ],
      "metadata": {
        "id": "4gtzBYGh3SrS"
      }
    },
    {
      "cell_type": "markdown",
      "source": [
        "#Exporting Data\n",
        "\n",
        "We export data for use in creating dashboards."
      ],
      "metadata": {
        "id": "2oWtakUa-p5A"
      }
    },
    {
      "cell_type": "code",
      "source": [
        "#export data\n",
        "data.to_csv('data.csv', index=False)"
      ],
      "metadata": {
        "id": "YaJJwXlt9Qxl"
      },
      "execution_count": null,
      "outputs": []
    },
    {
      "cell_type": "code",
      "source": [
        "#export segmentation_data\n",
        "segmentation_data.to_csv('segmentation_data.csv', index=False)"
      ],
      "metadata": {
        "id": "RJXR61N9BJ9P"
      },
      "execution_count": null,
      "outputs": []
    }
  ]
}